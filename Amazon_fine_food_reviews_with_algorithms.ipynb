{
  "cells": [
    {
      "cell_type": "markdown",
      "metadata": {
        "id": "view-in-github",
        "colab_type": "text"
      },
      "source": [
        "<a href=\"https://colab.research.google.com/github/VinothDevakumar/Hello-World/blob/master/Amazon_fine_food_reviews_with_algorithms.ipynb\" target=\"_parent\"><img src=\"https://colab.research.google.com/assets/colab-badge.svg\" alt=\"Open In Colab\"/></a>"
      ]
    },
    {
      "cell_type": "markdown",
      "id": "90f1d68f-49bb-403c-8313-1e8c66016f63",
      "metadata": {
        "id": "90f1d68f-49bb-403c-8313-1e8c66016f63"
      },
      "source": [
        "# Amazon fine food reviews clssification"
      ]
    },
    {
      "cell_type": "markdown",
      "id": "1ed5e57b-2c20-4beb-85c3-cfd79ffee6d4",
      "metadata": {
        "id": "1ed5e57b-2c20-4beb-85c3-cfd79ffee6d4"
      },
      "source": [
        "## Read the data"
      ]
    },
    {
      "cell_type": "code",
      "execution_count": 1,
      "id": "bc8b8733-ab82-4672-aff7-8e682884d4eb",
      "metadata": {
        "id": "bc8b8733-ab82-4672-aff7-8e682884d4eb"
      },
      "outputs": [],
      "source": [
        "import pandas as pd"
      ]
    },
    {
      "cell_type": "markdown",
      "id": "dec4a5c5-58b6-4fe2-90bb-d25d17c38859",
      "metadata": {
        "id": "dec4a5c5-58b6-4fe2-90bb-d25d17c38859"
      },
      "source": [
        "## 1. Collecting the dataset"
      ]
    },
    {
      "cell_type": "code",
      "execution_count": 4,
      "id": "ccfd7f68-c111-4dd1-b88d-ca3bfce9b597",
      "metadata": {
        "id": "ccfd7f68-c111-4dd1-b88d-ca3bfce9b597"
      },
      "outputs": [],
      "source": [
        "data=pd.read_csv(\"/content/Reviews.csv\")"
      ]
    },
    {
      "cell_type": "code",
      "execution_count": 5,
      "id": "37795837-480d-4cbc-947a-378dc0ced3fe",
      "metadata": {
        "id": "37795837-480d-4cbc-947a-378dc0ced3fe",
        "outputId": "77c07466-2190-4f90-ea69-e0d83a073901",
        "colab": {
          "base_uri": "https://localhost:8080/",
          "height": 276
        }
      },
      "outputs": [
        {
          "output_type": "execute_result",
          "data": {
            "text/plain": [
              "   Id   ProductId          UserId                      ProfileName  \\\n",
              "0   1  B001E4KFG0  A3SGXH7AUHU8GW                       delmartian   \n",
              "1   2  B00813GRG4  A1D87F6ZCVE5NK                           dll pa   \n",
              "2   3  B000LQOCH0   ABXLMWJIXXAIN  Natalia Corres \"Natalia Corres\"   \n",
              "3   4  B000UA0QIQ  A395BORC6FGVXV                             Karl   \n",
              "4   5  B006K2ZZ7K  A1UQRSCLF8GW1T    Michael D. Bigham \"M. Wassir\"   \n",
              "\n",
              "   HelpfulnessNumerator  HelpfulnessDenominator  Score          Time  \\\n",
              "0                   1.0                     1.0    5.0  1.303862e+09   \n",
              "1                   0.0                     0.0    1.0  1.346976e+09   \n",
              "2                   1.0                     1.0    4.0  1.219018e+09   \n",
              "3                   3.0                     3.0    2.0  1.307923e+09   \n",
              "4                   0.0                     0.0    5.0  1.350778e+09   \n",
              "\n",
              "                 Summary                                               Text  \n",
              "0  Good Quality Dog Food  I have bought several of the Vitality canned d...  \n",
              "1      Not as Advertised  Product arrived labeled as Jumbo Salted Peanut...  \n",
              "2  \"Delight\" says it all  This is a confection that has been around a fe...  \n",
              "3         Cough Medicine  If you are looking for the secret ingredient i...  \n",
              "4            Great taffy  Great taffy at a great price.  There was a wid...  "
            ],
            "text/html": [
              "\n",
              "  <div id=\"df-343a0524-4ac9-44d8-93cb-4d604f6c9597\" class=\"colab-df-container\">\n",
              "    <div>\n",
              "<style scoped>\n",
              "    .dataframe tbody tr th:only-of-type {\n",
              "        vertical-align: middle;\n",
              "    }\n",
              "\n",
              "    .dataframe tbody tr th {\n",
              "        vertical-align: top;\n",
              "    }\n",
              "\n",
              "    .dataframe thead th {\n",
              "        text-align: right;\n",
              "    }\n",
              "</style>\n",
              "<table border=\"1\" class=\"dataframe\">\n",
              "  <thead>\n",
              "    <tr style=\"text-align: right;\">\n",
              "      <th></th>\n",
              "      <th>Id</th>\n",
              "      <th>ProductId</th>\n",
              "      <th>UserId</th>\n",
              "      <th>ProfileName</th>\n",
              "      <th>HelpfulnessNumerator</th>\n",
              "      <th>HelpfulnessDenominator</th>\n",
              "      <th>Score</th>\n",
              "      <th>Time</th>\n",
              "      <th>Summary</th>\n",
              "      <th>Text</th>\n",
              "    </tr>\n",
              "  </thead>\n",
              "  <tbody>\n",
              "    <tr>\n",
              "      <th>0</th>\n",
              "      <td>1</td>\n",
              "      <td>B001E4KFG0</td>\n",
              "      <td>A3SGXH7AUHU8GW</td>\n",
              "      <td>delmartian</td>\n",
              "      <td>1.0</td>\n",
              "      <td>1.0</td>\n",
              "      <td>5.0</td>\n",
              "      <td>1.303862e+09</td>\n",
              "      <td>Good Quality Dog Food</td>\n",
              "      <td>I have bought several of the Vitality canned d...</td>\n",
              "    </tr>\n",
              "    <tr>\n",
              "      <th>1</th>\n",
              "      <td>2</td>\n",
              "      <td>B00813GRG4</td>\n",
              "      <td>A1D87F6ZCVE5NK</td>\n",
              "      <td>dll pa</td>\n",
              "      <td>0.0</td>\n",
              "      <td>0.0</td>\n",
              "      <td>1.0</td>\n",
              "      <td>1.346976e+09</td>\n",
              "      <td>Not as Advertised</td>\n",
              "      <td>Product arrived labeled as Jumbo Salted Peanut...</td>\n",
              "    </tr>\n",
              "    <tr>\n",
              "      <th>2</th>\n",
              "      <td>3</td>\n",
              "      <td>B000LQOCH0</td>\n",
              "      <td>ABXLMWJIXXAIN</td>\n",
              "      <td>Natalia Corres \"Natalia Corres\"</td>\n",
              "      <td>1.0</td>\n",
              "      <td>1.0</td>\n",
              "      <td>4.0</td>\n",
              "      <td>1.219018e+09</td>\n",
              "      <td>\"Delight\" says it all</td>\n",
              "      <td>This is a confection that has been around a fe...</td>\n",
              "    </tr>\n",
              "    <tr>\n",
              "      <th>3</th>\n",
              "      <td>4</td>\n",
              "      <td>B000UA0QIQ</td>\n",
              "      <td>A395BORC6FGVXV</td>\n",
              "      <td>Karl</td>\n",
              "      <td>3.0</td>\n",
              "      <td>3.0</td>\n",
              "      <td>2.0</td>\n",
              "      <td>1.307923e+09</td>\n",
              "      <td>Cough Medicine</td>\n",
              "      <td>If you are looking for the secret ingredient i...</td>\n",
              "    </tr>\n",
              "    <tr>\n",
              "      <th>4</th>\n",
              "      <td>5</td>\n",
              "      <td>B006K2ZZ7K</td>\n",
              "      <td>A1UQRSCLF8GW1T</td>\n",
              "      <td>Michael D. Bigham \"M. Wassir\"</td>\n",
              "      <td>0.0</td>\n",
              "      <td>0.0</td>\n",
              "      <td>5.0</td>\n",
              "      <td>1.350778e+09</td>\n",
              "      <td>Great taffy</td>\n",
              "      <td>Great taffy at a great price.  There was a wid...</td>\n",
              "    </tr>\n",
              "  </tbody>\n",
              "</table>\n",
              "</div>\n",
              "    <div class=\"colab-df-buttons\">\n",
              "\n",
              "  <div class=\"colab-df-container\">\n",
              "    <button class=\"colab-df-convert\" onclick=\"convertToInteractive('df-343a0524-4ac9-44d8-93cb-4d604f6c9597')\"\n",
              "            title=\"Convert this dataframe to an interactive table.\"\n",
              "            style=\"display:none;\">\n",
              "\n",
              "  <svg xmlns=\"http://www.w3.org/2000/svg\" height=\"24px\" viewBox=\"0 -960 960 960\">\n",
              "    <path d=\"M120-120v-720h720v720H120Zm60-500h600v-160H180v160Zm220 220h160v-160H400v160Zm0 220h160v-160H400v160ZM180-400h160v-160H180v160Zm440 0h160v-160H620v160ZM180-180h160v-160H180v160Zm440 0h160v-160H620v160Z\"/>\n",
              "  </svg>\n",
              "    </button>\n",
              "\n",
              "  <style>\n",
              "    .colab-df-container {\n",
              "      display:flex;\n",
              "      gap: 12px;\n",
              "    }\n",
              "\n",
              "    .colab-df-convert {\n",
              "      background-color: #E8F0FE;\n",
              "      border: none;\n",
              "      border-radius: 50%;\n",
              "      cursor: pointer;\n",
              "      display: none;\n",
              "      fill: #1967D2;\n",
              "      height: 32px;\n",
              "      padding: 0 0 0 0;\n",
              "      width: 32px;\n",
              "    }\n",
              "\n",
              "    .colab-df-convert:hover {\n",
              "      background-color: #E2EBFA;\n",
              "      box-shadow: 0px 1px 2px rgba(60, 64, 67, 0.3), 0px 1px 3px 1px rgba(60, 64, 67, 0.15);\n",
              "      fill: #174EA6;\n",
              "    }\n",
              "\n",
              "    .colab-df-buttons div {\n",
              "      margin-bottom: 4px;\n",
              "    }\n",
              "\n",
              "    [theme=dark] .colab-df-convert {\n",
              "      background-color: #3B4455;\n",
              "      fill: #D2E3FC;\n",
              "    }\n",
              "\n",
              "    [theme=dark] .colab-df-convert:hover {\n",
              "      background-color: #434B5C;\n",
              "      box-shadow: 0px 1px 3px 1px rgba(0, 0, 0, 0.15);\n",
              "      filter: drop-shadow(0px 1px 2px rgba(0, 0, 0, 0.3));\n",
              "      fill: #FFFFFF;\n",
              "    }\n",
              "  </style>\n",
              "\n",
              "    <script>\n",
              "      const buttonEl =\n",
              "        document.querySelector('#df-343a0524-4ac9-44d8-93cb-4d604f6c9597 button.colab-df-convert');\n",
              "      buttonEl.style.display =\n",
              "        google.colab.kernel.accessAllowed ? 'block' : 'none';\n",
              "\n",
              "      async function convertToInteractive(key) {\n",
              "        const element = document.querySelector('#df-343a0524-4ac9-44d8-93cb-4d604f6c9597');\n",
              "        const dataTable =\n",
              "          await google.colab.kernel.invokeFunction('convertToInteractive',\n",
              "                                                    [key], {});\n",
              "        if (!dataTable) return;\n",
              "\n",
              "        const docLinkHtml = 'Like what you see? Visit the ' +\n",
              "          '<a target=\"_blank\" href=https://colab.research.google.com/notebooks/data_table.ipynb>data table notebook</a>'\n",
              "          + ' to learn more about interactive tables.';\n",
              "        element.innerHTML = '';\n",
              "        dataTable['output_type'] = 'display_data';\n",
              "        await google.colab.output.renderOutput(dataTable, element);\n",
              "        const docLink = document.createElement('div');\n",
              "        docLink.innerHTML = docLinkHtml;\n",
              "        element.appendChild(docLink);\n",
              "      }\n",
              "    </script>\n",
              "  </div>\n",
              "\n",
              "\n",
              "<div id=\"df-e5b84863-2c71-4a27-af80-ced506dada0f\">\n",
              "  <button class=\"colab-df-quickchart\" onclick=\"quickchart('df-e5b84863-2c71-4a27-af80-ced506dada0f')\"\n",
              "            title=\"Suggest charts\"\n",
              "            style=\"display:none;\">\n",
              "\n",
              "<svg xmlns=\"http://www.w3.org/2000/svg\" height=\"24px\"viewBox=\"0 0 24 24\"\n",
              "     width=\"24px\">\n",
              "    <g>\n",
              "        <path d=\"M19 3H5c-1.1 0-2 .9-2 2v14c0 1.1.9 2 2 2h14c1.1 0 2-.9 2-2V5c0-1.1-.9-2-2-2zM9 17H7v-7h2v7zm4 0h-2V7h2v10zm4 0h-2v-4h2v4z\"/>\n",
              "    </g>\n",
              "</svg>\n",
              "  </button>\n",
              "\n",
              "<style>\n",
              "  .colab-df-quickchart {\n",
              "      --bg-color: #E8F0FE;\n",
              "      --fill-color: #1967D2;\n",
              "      --hover-bg-color: #E2EBFA;\n",
              "      --hover-fill-color: #174EA6;\n",
              "      --disabled-fill-color: #AAA;\n",
              "      --disabled-bg-color: #DDD;\n",
              "  }\n",
              "\n",
              "  [theme=dark] .colab-df-quickchart {\n",
              "      --bg-color: #3B4455;\n",
              "      --fill-color: #D2E3FC;\n",
              "      --hover-bg-color: #434B5C;\n",
              "      --hover-fill-color: #FFFFFF;\n",
              "      --disabled-bg-color: #3B4455;\n",
              "      --disabled-fill-color: #666;\n",
              "  }\n",
              "\n",
              "  .colab-df-quickchart {\n",
              "    background-color: var(--bg-color);\n",
              "    border: none;\n",
              "    border-radius: 50%;\n",
              "    cursor: pointer;\n",
              "    display: none;\n",
              "    fill: var(--fill-color);\n",
              "    height: 32px;\n",
              "    padding: 0;\n",
              "    width: 32px;\n",
              "  }\n",
              "\n",
              "  .colab-df-quickchart:hover {\n",
              "    background-color: var(--hover-bg-color);\n",
              "    box-shadow: 0 1px 2px rgba(60, 64, 67, 0.3), 0 1px 3px 1px rgba(60, 64, 67, 0.15);\n",
              "    fill: var(--button-hover-fill-color);\n",
              "  }\n",
              "\n",
              "  .colab-df-quickchart-complete:disabled,\n",
              "  .colab-df-quickchart-complete:disabled:hover {\n",
              "    background-color: var(--disabled-bg-color);\n",
              "    fill: var(--disabled-fill-color);\n",
              "    box-shadow: none;\n",
              "  }\n",
              "\n",
              "  .colab-df-spinner {\n",
              "    border: 2px solid var(--fill-color);\n",
              "    border-color: transparent;\n",
              "    border-bottom-color: var(--fill-color);\n",
              "    animation:\n",
              "      spin 1s steps(1) infinite;\n",
              "  }\n",
              "\n",
              "  @keyframes spin {\n",
              "    0% {\n",
              "      border-color: transparent;\n",
              "      border-bottom-color: var(--fill-color);\n",
              "      border-left-color: var(--fill-color);\n",
              "    }\n",
              "    20% {\n",
              "      border-color: transparent;\n",
              "      border-left-color: var(--fill-color);\n",
              "      border-top-color: var(--fill-color);\n",
              "    }\n",
              "    30% {\n",
              "      border-color: transparent;\n",
              "      border-left-color: var(--fill-color);\n",
              "      border-top-color: var(--fill-color);\n",
              "      border-right-color: var(--fill-color);\n",
              "    }\n",
              "    40% {\n",
              "      border-color: transparent;\n",
              "      border-right-color: var(--fill-color);\n",
              "      border-top-color: var(--fill-color);\n",
              "    }\n",
              "    60% {\n",
              "      border-color: transparent;\n",
              "      border-right-color: var(--fill-color);\n",
              "    }\n",
              "    80% {\n",
              "      border-color: transparent;\n",
              "      border-right-color: var(--fill-color);\n",
              "      border-bottom-color: var(--fill-color);\n",
              "    }\n",
              "    90% {\n",
              "      border-color: transparent;\n",
              "      border-bottom-color: var(--fill-color);\n",
              "    }\n",
              "  }\n",
              "</style>\n",
              "\n",
              "  <script>\n",
              "    async function quickchart(key) {\n",
              "      const quickchartButtonEl =\n",
              "        document.querySelector('#' + key + ' button');\n",
              "      quickchartButtonEl.disabled = true;  // To prevent multiple clicks.\n",
              "      quickchartButtonEl.classList.add('colab-df-spinner');\n",
              "      try {\n",
              "        const charts = await google.colab.kernel.invokeFunction(\n",
              "            'suggestCharts', [key], {});\n",
              "      } catch (error) {\n",
              "        console.error('Error during call to suggestCharts:', error);\n",
              "      }\n",
              "      quickchartButtonEl.classList.remove('colab-df-spinner');\n",
              "      quickchartButtonEl.classList.add('colab-df-quickchart-complete');\n",
              "    }\n",
              "    (() => {\n",
              "      let quickchartButtonEl =\n",
              "        document.querySelector('#df-e5b84863-2c71-4a27-af80-ced506dada0f button');\n",
              "      quickchartButtonEl.style.display =\n",
              "        google.colab.kernel.accessAllowed ? 'block' : 'none';\n",
              "    })();\n",
              "  </script>\n",
              "</div>\n",
              "\n",
              "    </div>\n",
              "  </div>\n"
            ],
            "application/vnd.google.colaboratory.intrinsic+json": {
              "type": "dataframe",
              "variable_name": "data",
              "summary": "{\n  \"name\": \"data\",\n  \"rows\": 16243,\n  \"fields\": [\n    {\n      \"column\": \"Id\",\n      \"properties\": {\n        \"dtype\": \"number\",\n        \"std\": 4689,\n        \"min\": 1,\n        \"max\": 16243,\n        \"num_unique_values\": 16243,\n        \"samples\": [\n          8731,\n          12417,\n          1108\n        ],\n        \"semantic_type\": \"\",\n        \"description\": \"\"\n      }\n    },\n    {\n      \"column\": \"ProductId\",\n      \"properties\": {\n        \"dtype\": \"category\",\n        \"num_unique_values\": 2241,\n        \"samples\": [\n          \"B0017T1LI8\",\n          \"B0028PHHLU\",\n          \"B0022MH2QE\"\n        ],\n        \"semantic_type\": \"\",\n        \"description\": \"\"\n      }\n    },\n    {\n      \"column\": \"UserId\",\n      \"properties\": {\n        \"dtype\": \"string\",\n        \"num_unique_values\": 14514,\n        \"samples\": [\n          \"A3EBLZM17S0GV6\",\n          \"A3KTOA1CBPBBC0\",\n          \"ASETNNKSBFJRC\"\n        ],\n        \"semantic_type\": \"\",\n        \"description\": \"\"\n      }\n    },\n    {\n      \"column\": \"ProfileName\",\n      \"properties\": {\n        \"dtype\": \"string\",\n        \"num_unique_values\": 13826,\n        \"samples\": [\n          \"Holly Wilder\",\n          \"J. OTTO\",\n          \"Amazonian\"\n        ],\n        \"semantic_type\": \"\",\n        \"description\": \"\"\n      }\n    },\n    {\n      \"column\": \"HelpfulnessNumerator\",\n      \"properties\": {\n        \"dtype\": \"number\",\n        \"std\": 5.223676169576875,\n        \"min\": 0.0,\n        \"max\": 202.0,\n        \"num_unique_values\": 69,\n        \"samples\": [\n          21.0,\n          1.0,\n          48.0\n        ],\n        \"semantic_type\": \"\",\n        \"description\": \"\"\n      }\n    },\n    {\n      \"column\": \"HelpfulnessDenominator\",\n      \"properties\": {\n        \"dtype\": \"number\",\n        \"std\": 5.929612157923727,\n        \"min\": 0.0,\n        \"max\": 219.0,\n        \"num_unique_values\": 76,\n        \"samples\": [\n          2.0,\n          20.0,\n          15.0\n        ],\n        \"semantic_type\": \"\",\n        \"description\": \"\"\n      }\n    },\n    {\n      \"column\": \"Score\",\n      \"properties\": {\n        \"dtype\": \"number\",\n        \"std\": 1.3166816761716564,\n        \"min\": 1.0,\n        \"max\": 5.0,\n        \"num_unique_values\": 5,\n        \"samples\": [\n          1.0,\n          3.0,\n          4.0\n        ],\n        \"semantic_type\": \"\",\n        \"description\": \"\"\n      }\n    },\n    {\n      \"column\": \"Time\",\n      \"properties\": {\n        \"dtype\": \"number\",\n        \"std\": 46739199.96484835,\n        \"min\": 961718400.0,\n        \"max\": 1351209600.0,\n        \"num_unique_values\": 2138,\n        \"samples\": [\n          1287705600.0,\n          1306022400.0,\n          1296691200.0\n        ],\n        \"semantic_type\": \"\",\n        \"description\": \"\"\n      }\n    },\n    {\n      \"column\": \"Summary\",\n      \"properties\": {\n        \"dtype\": \"string\",\n        \"num_unique_values\": 13793,\n        \"samples\": [\n          \"Refreshing flavor\",\n          \"Its good!\",\n          \"NOT edible!\"\n        ],\n        \"semantic_type\": \"\",\n        \"description\": \"\"\n      }\n    },\n    {\n      \"column\": \"Text\",\n      \"properties\": {\n        \"dtype\": \"string\",\n        \"num_unique_values\": 15638,\n        \"samples\": [\n          \"According to a lot of reviews on top baby food brands overall, Earth's Best was always voted to be in the Top 5 of all the lists of reviews by Mom Links, Consumer Reports, Livestrong, Baby Health Sites.  Here is a excerpt from one of the sites (I think it was from eHow.com):<br /><br />The Center for Science in the Public Interest evaluated popular brands of baby foods, including Gerbers, Heinz, Earth's Best and Beech-Nut. According to the Center's report, Earth's Best did not use starchy fillers or \\\"replace real food with water and thickening agents in many of their products for children over six months of age. Such adulterated products are nutritionally inferior to products made with more fruits and vegetables.\\\" Earth's Best uses certified organic products. The brand offers single-ingredient, smooth foods for infants over four months; fruit, vegetable, grain and meat blends for babies over six months; and a variety of chunky soups, dinners and vegetable medleys for children over nine months old. Earth's Best products are sold at supermarkets, natural food stores and big box stores nationwide.<br /><br />Plus, my baby girl loves it.  Yes, it might be a little runnier than the other baby foods, but I just add a little rice with it and that fixes it.\",\n          \"I tried this unknown manufacturer \\\"Stephen's\\\" and was pleasantly surprised. It had a good amaretto flavor along with the chocolate. The aroma is good. I use it in my coffee for a homemade mocha taste.\",\n          \"I thought I was getting a healthy alternative to cheese its and cheese nips. But after comparing the labels, I was surprised to see that the Back to Nature ones have basically the same ingredients (nothing organic) and MUCH MORE sodium than the major brands.<br /><br />Seems they just put regular crackers in a 'healthy' looking box and got away with charging a premium.\"\n        ],\n        \"semantic_type\": \"\",\n        \"description\": \"\"\n      }\n    }\n  ]\n}"
            }
          },
          "metadata": {},
          "execution_count": 5
        }
      ],
      "source": [
        "data.head()"
      ]
    },
    {
      "cell_type": "markdown",
      "id": "5bc388de-a5d6-4240-bff6-de39b0666e5e",
      "metadata": {
        "id": "5bc388de-a5d6-4240-bff6-de39b0666e5e"
      },
      "source": [
        "## 2.Perfom EDA on the dataset"
      ]
    },
    {
      "cell_type": "code",
      "execution_count": 6,
      "id": "eaefc95a-13c8-4d2a-944c-31f51ff2f3f0",
      "metadata": {
        "id": "eaefc95a-13c8-4d2a-944c-31f51ff2f3f0",
        "outputId": "18367cc6-42d5-466f-e843-47b17a93a644",
        "colab": {
          "base_uri": "https://localhost:8080/"
        }
      },
      "outputs": [
        {
          "output_type": "execute_result",
          "data": {
            "text/plain": [
              "(16243, 10)"
            ]
          },
          "metadata": {},
          "execution_count": 6
        }
      ],
      "source": [
        "data.shape"
      ]
    },
    {
      "cell_type": "code",
      "execution_count": 7,
      "id": "c8a8ca33-980c-4b85-ae1e-b3ef6a1a6ea2",
      "metadata": {
        "id": "c8a8ca33-980c-4b85-ae1e-b3ef6a1a6ea2",
        "outputId": "122cff32-22af-4d78-ccd7-cef35bf944e0",
        "colab": {
          "base_uri": "https://localhost:8080/"
        }
      },
      "outputs": [
        {
          "output_type": "execute_result",
          "data": {
            "text/plain": [
              "Index(['Id', 'ProductId', 'UserId', 'ProfileName', 'HelpfulnessNumerator',\n",
              "       'HelpfulnessDenominator', 'Score', 'Time', 'Summary', 'Text'],\n",
              "      dtype='object')"
            ]
          },
          "metadata": {},
          "execution_count": 7
        }
      ],
      "source": [
        "data.columns"
      ]
    },
    {
      "cell_type": "code",
      "execution_count": 8,
      "id": "675692c0-b732-421a-a515-553ec3e38584",
      "metadata": {
        "id": "675692c0-b732-421a-a515-553ec3e38584"
      },
      "outputs": [],
      "source": [
        "df=data[0:50000]"
      ]
    },
    {
      "cell_type": "code",
      "execution_count": 9,
      "id": "b2e828c2-7996-4096-9ce8-a46977e5a065",
      "metadata": {
        "id": "b2e828c2-7996-4096-9ce8-a46977e5a065",
        "outputId": "21f45989-cc6c-4865-8929-5e506df1b81d",
        "colab": {
          "base_uri": "https://localhost:8080/"
        }
      },
      "outputs": [
        {
          "output_type": "stream",
          "name": "stdout",
          "text": [
            "The DataFrame has 16243 rows and 10 columns.\n"
          ]
        }
      ],
      "source": [
        "# Print the shape of the DataFrame\n",
        "print(f'The DataFrame has {df.shape[0]} rows and {df.shape[1]} columns.')"
      ]
    },
    {
      "cell_type": "code",
      "execution_count": 10,
      "id": "45a1d7a5-ff62-4667-bc15-fbce0bda564e",
      "metadata": {
        "id": "45a1d7a5-ff62-4667-bc15-fbce0bda564e",
        "outputId": "e08e2196-a46b-4df1-fd70-0c4a6222472b",
        "colab": {
          "base_uri": "https://localhost:8080/"
        }
      },
      "outputs": [
        {
          "output_type": "stream",
          "name": "stdout",
          "text": [
            "The DataFrame has 16243 rows and 10 columns.\n"
          ]
        }
      ],
      "source": [
        "print('The DataFrame has '+str(df.shape[0])+' rows and '+str(df.shape[1])+' columns.')"
      ]
    },
    {
      "cell_type": "code",
      "execution_count": 11,
      "id": "802027c3-2fce-4c93-bcb5-039bfe86a4a4",
      "metadata": {
        "id": "802027c3-2fce-4c93-bcb5-039bfe86a4a4",
        "outputId": "42134fab-7b48-4cd2-bdaa-0b6ee96a1d85",
        "colab": {
          "base_uri": "https://localhost:8080/"
        }
      },
      "outputs": [
        {
          "output_type": "stream",
          "name": "stdout",
          "text": [
            "There are 2241 unique products.\n"
          ]
        }
      ],
      "source": [
        "# Print the number of unique products\n",
        "print(f'There are {df[\"ProductId\"].nunique()} unique products.')"
      ]
    },
    {
      "cell_type": "code",
      "execution_count": 12,
      "id": "8e57df04-e922-41b4-a201-edfa81ba52ad",
      "metadata": {
        "id": "8e57df04-e922-41b4-a201-edfa81ba52ad",
        "outputId": "c4eff7a4-3541-4b41-f19f-58f35a471453",
        "colab": {
          "base_uri": "https://localhost:8080/"
        }
      },
      "outputs": [
        {
          "output_type": "execute_result",
          "data": {
            "text/plain": [
              "2241"
            ]
          },
          "metadata": {},
          "execution_count": 12
        }
      ],
      "source": [
        "df[\"ProductId\"].nunique()"
      ]
    },
    {
      "cell_type": "code",
      "execution_count": 13,
      "id": "4ce33046-f059-477f-949a-a9eea240165c",
      "metadata": {
        "id": "4ce33046-f059-477f-949a-a9eea240165c",
        "outputId": "e19f814a-4899-4d72-cc4d-5791f9361550",
        "colab": {
          "base_uri": "https://localhost:8080/"
        }
      },
      "outputs": [
        {
          "output_type": "execute_result",
          "data": {
            "text/plain": [
              "5"
            ]
          },
          "metadata": {},
          "execution_count": 13
        }
      ],
      "source": [
        "df[\"Score\"].nunique()"
      ]
    },
    {
      "cell_type": "code",
      "execution_count": 14,
      "id": "2ebedef3-d972-4e15-a683-a8f7f9d790ef",
      "metadata": {
        "id": "2ebedef3-d972-4e15-a683-a8f7f9d790ef",
        "outputId": "f5088943-878a-458a-a7d3-ea1b551ec013",
        "colab": {
          "base_uri": "https://localhost:8080/"
        }
      },
      "outputs": [
        {
          "output_type": "stream",
          "name": "stdout",
          "text": [
            "Score\n",
            "5.0    10197\n",
            "4.0     2312\n",
            "1.0     1497\n",
            "3.0     1349\n",
            "2.0      887\n",
            "Name: count, dtype: int64\n"
          ]
        }
      ],
      "source": [
        "print(df['Score'].value_counts())"
      ]
    },
    {
      "cell_type": "code",
      "execution_count": 15,
      "id": "de9b4815-29bc-404e-9f25-a3a7e4652a30",
      "metadata": {
        "id": "de9b4815-29bc-404e-9f25-a3a7e4652a30"
      },
      "outputs": [],
      "source": [
        "import matplotlib.pyplot as plt"
      ]
    },
    {
      "cell_type": "code",
      "execution_count": 16,
      "id": "662de6e0-bb28-414c-94d3-44a0de2fd771",
      "metadata": {
        "id": "662de6e0-bb28-414c-94d3-44a0de2fd771",
        "outputId": "58fb4619-9bdd-4c8b-df10-c063b12d9c66",
        "colab": {
          "base_uri": "https://localhost:8080/",
          "height": 495
        }
      },
      "outputs": [
        {
          "output_type": "display_data",
          "data": {
            "text/plain": [
              "<Figure size 1000x500 with 1 Axes>"
            ],
            "image/png": "[encoded data removed]"
          },
          "metadata": {}
        }
      ],
      "source": [
        "plt.figure(figsize=(10, 5))\n",
        "df['Score'].value_counts().sort_index().plot(kind='bar')\n",
        "plt.title('Distribution of Scores')\n",
        "plt.xlabel('Score')\n",
        "plt.ylabel('Count')\n",
        "plt.show()"
      ]
    },
    {
      "cell_type": "markdown",
      "id": "ad377a18-282e-41ff-9893-1eb79a966728",
      "metadata": {
        "id": "ad377a18-282e-41ff-9893-1eb79a966728"
      },
      "source": [
        "## 3. Pre processing"
      ]
    },
    {
      "cell_type": "code",
      "execution_count": 17,
      "id": "e1cdf471-2a5d-4fdd-9249-1521f2ef8d48",
      "metadata": {
        "id": "e1cdf471-2a5d-4fdd-9249-1521f2ef8d48"
      },
      "outputs": [],
      "source": [
        "from imblearn.under_sampling import RandomUnderSampler"
      ]
    },
    {
      "cell_type": "code",
      "execution_count": 18,
      "id": "e4de4eaf-e1b3-4038-b8ec-ad7737d48733",
      "metadata": {
        "id": "e4de4eaf-e1b3-4038-b8ec-ad7737d48733"
      },
      "outputs": [],
      "source": [
        "rus = RandomUnderSampler(random_state=52)"
      ]
    },
    {
      "cell_type": "code",
      "execution_count": 21,
      "id": "e190492c-d4a8-46d0-bc49-78d2a9ff96a6",
      "metadata": {
        "id": "e190492c-d4a8-46d0-bc49-78d2a9ff96a6"
      },
      "outputs": [],
      "source": [
        "X_resampled, y_resampled = rus.fit_resample(df[['Summary','Text']], df['Score'])"
      ]
    },
    {
      "cell_type": "code",
      "execution_count": 22,
      "id": "32e9310b-06c6-4e07-b136-9ea321382292",
      "metadata": {
        "id": "32e9310b-06c6-4e07-b136-9ea321382292",
        "outputId": "765d2384-25c2-4431-d22f-a747c8aaad9a",
        "colab": {
          "base_uri": "https://localhost:8080/",
          "height": 424
        }
      },
      "outputs": [
        {
          "output_type": "execute_result",
          "data": {
            "text/plain": [
              "                         Summary  \\\n",
              "0                  amish popcorn   \n",
              "1                          Awful   \n",
              "2                        Garbage   \n",
              "3               Artificial taste   \n",
              "4            Very disapointing!!   \n",
              "...                          ...   \n",
              "4430  German Shepherd's Favorite   \n",
              "4431                Scrumptious!   \n",
              "4432              Flavored Cream   \n",
              "4433          Shortbread cookies   \n",
              "4434           An excellent food   \n",
              "\n",
              "                                                   Text  \n",
              "0     worst popcorn ive ever bought.  chewy not fluf...  \n",
              "1     This tea is the most awful stuff I've ever put...  \n",
              "2     Don't waste your money on any of the Kettle br...  \n",
              "3     These cups are artifically sweetened with sucr...  \n",
              "4     I received my order of Grove Square hot cocoa ...  \n",
              "...                                                 ...  \n",
              "4430  My girl has loved these for two years.  When t...  \n",
              "4431  This is my favorite of the flavored coffees. I...  \n",
              "4432  This is a great buy for the price.  I can't ge...  \n",
              "4433  These shortbread cookies are delicious.  I bou...  \n",
              "4434  I have been feeding Blue Buffalo foods to my G...  \n",
              "\n",
              "[4435 rows x 2 columns]"
            ],
            "text/html": [
              "\n",
              "  <div id=\"df-6e531315-4311-4f70-894d-fc3398062fb1\" class=\"colab-df-container\">\n",
              "    <div>\n",
              "<style scoped>\n",
              "    .dataframe tbody tr th:only-of-type {\n",
              "        vertical-align: middle;\n",
              "    }\n",
              "\n",
              "    .dataframe tbody tr th {\n",
              "        vertical-align: top;\n",
              "    }\n",
              "\n",
              "    .dataframe thead th {\n",
              "        text-align: right;\n",
              "    }\n",
              "</style>\n",
              "<table border=\"1\" class=\"dataframe\">\n",
              "  <thead>\n",
              "    <tr style=\"text-align: right;\">\n",
              "      <th></th>\n",
              "      <th>Summary</th>\n",
              "      <th>Text</th>\n",
              "    </tr>\n",
              "  </thead>\n",
              "  <tbody>\n",
              "    <tr>\n",
              "      <th>0</th>\n",
              "      <td>amish popcorn</td>\n",
              "      <td>worst popcorn ive ever bought.  chewy not fluf...</td>\n",
              "    </tr>\n",
              "    <tr>\n",
              "      <th>1</th>\n",
              "      <td>Awful</td>\n",
              "      <td>This tea is the most awful stuff I've ever put...</td>\n",
              "    </tr>\n",
              "    <tr>\n",
              "      <th>2</th>\n",
              "      <td>Garbage</td>\n",
              "      <td>Don't waste your money on any of the Kettle br...</td>\n",
              "    </tr>\n",
              "    <tr>\n",
              "      <th>3</th>\n",
              "      <td>Artificial taste</td>\n",
              "      <td>These cups are artifically sweetened with sucr...</td>\n",
              "    </tr>\n",
              "    <tr>\n",
              "      <th>4</th>\n",
              "      <td>Very disapointing!!</td>\n",
              "      <td>I received my order of Grove Square hot cocoa ...</td>\n",
              "    </tr>\n",
              "    <tr>\n",
              "      <th>...</th>\n",
              "      <td>...</td>\n",
              "      <td>...</td>\n",
              "    </tr>\n",
              "    <tr>\n",
              "      <th>4430</th>\n",
              "      <td>German Shepherd's Favorite</td>\n",
              "      <td>My girl has loved these for two years.  When t...</td>\n",
              "    </tr>\n",
              "    <tr>\n",
              "      <th>4431</th>\n",
              "      <td>Scrumptious!</td>\n",
              "      <td>This is my favorite of the flavored coffees. I...</td>\n",
              "    </tr>\n",
              "    <tr>\n",
              "      <th>4432</th>\n",
              "      <td>Flavored Cream</td>\n",
              "      <td>This is a great buy for the price.  I can't ge...</td>\n",
              "    </tr>\n",
              "    <tr>\n",
              "      <th>4433</th>\n",
              "      <td>Shortbread cookies</td>\n",
              "      <td>These shortbread cookies are delicious.  I bou...</td>\n",
              "    </tr>\n",
              "    <tr>\n",
              "      <th>4434</th>\n",
              "      <td>An excellent food</td>\n",
              "      <td>I have been feeding Blue Buffalo foods to my G...</td>\n",
              "    </tr>\n",
              "  </tbody>\n",
              "</table>\n",
              "<p>4435 rows × 2 columns</p>\n",
              "</div>\n",
              "    <div class=\"colab-df-buttons\">\n",
              "\n",
              "  <div class=\"colab-df-container\">\n",
              "    <button class=\"colab-df-convert\" onclick=\"convertToInteractive('df-6e531315-4311-4f70-894d-fc3398062fb1')\"\n",
              "            title=\"Convert this dataframe to an interactive table.\"\n",
              "            style=\"display:none;\">\n",
              "\n",
              "  <svg xmlns=\"http://www.w3.org/2000/svg\" height=\"24px\" viewBox=\"0 -960 960 960\">\n",
              "    <path d=\"M120-120v-720h720v720H120Zm60-500h600v-160H180v160Zm220 220h160v-160H400v160Zm0 220h160v-160H400v160ZM180-400h160v-160H180v160Zm440 0h160v-160H620v160ZM180-180h160v-160H180v160Zm440 0h160v-160H620v160Z\"/>\n",
              "  </svg>\n",
              "    </button>\n",
              "\n",
              "  <style>\n",
              "    .colab-df-container {\n",
              "      display:flex;\n",
              "      gap: 12px;\n",
              "    }\n",
              "\n",
              "    .colab-df-convert {\n",
              "      background-color: #E8F0FE;\n",
              "      border: none;\n",
              "      border-radius: 50%;\n",
              "      cursor: pointer;\n",
              "      display: none;\n",
              "      fill: #1967D2;\n",
              "      height: 32px;\n",
              "      padding: 0 0 0 0;\n",
              "      width: 32px;\n",
              "    }\n",
              "\n",
              "    .colab-df-convert:hover {\n",
              "      background-color: #E2EBFA;\n",
              "      box-shadow: 0px 1px 2px rgba(60, 64, 67, 0.3), 0px 1px 3px 1px rgba(60, 64, 67, 0.15);\n",
              "      fill: #174EA6;\n",
              "    }\n",
              "\n",
              "    .colab-df-buttons div {\n",
              "      margin-bottom: 4px;\n",
              "    }\n",
              "\n",
              "    [theme=dark] .colab-df-convert {\n",
              "      background-color: #3B4455;\n",
              "      fill: #D2E3FC;\n",
              "    }\n",
              "\n",
              "    [theme=dark] .colab-df-convert:hover {\n",
              "      background-color: #434B5C;\n",
              "      box-shadow: 0px 1px 3px 1px rgba(0, 0, 0, 0.15);\n",
              "      filter: drop-shadow(0px 1px 2px rgba(0, 0, 0, 0.3));\n",
              "      fill: #FFFFFF;\n",
              "    }\n",
              "  </style>\n",
              "\n",
              "    <script>\n",
              "      const buttonEl =\n",
              "        document.querySelector('#df-6e531315-4311-4f70-894d-fc3398062fb1 button.colab-df-convert');\n",
              "      buttonEl.style.display =\n",
              "        google.colab.kernel.accessAllowed ? 'block' : 'none';\n",
              "\n",
              "      async function convertToInteractive(key) {\n",
              "        const element = document.querySelector('#df-6e531315-4311-4f70-894d-fc3398062fb1');\n",
              "        const dataTable =\n",
              "          await google.colab.kernel.invokeFunction('convertToInteractive',\n",
              "                                                    [key], {});\n",
              "        if (!dataTable) return;\n",
              "\n",
              "        const docLinkHtml = 'Like what you see? Visit the ' +\n",
              "          '<a target=\"_blank\" href=https://colab.research.google.com/notebooks/data_table.ipynb>data table notebook</a>'\n",
              "          + ' to learn more about interactive tables.';\n",
              "        element.innerHTML = '';\n",
              "        dataTable['output_type'] = 'display_data';\n",
              "        await google.colab.output.renderOutput(dataTable, element);\n",
              "        const docLink = document.createElement('div');\n",
              "        docLink.innerHTML = docLinkHtml;\n",
              "        element.appendChild(docLink);\n",
              "      }\n",
              "    </script>\n",
              "  </div>\n",
              "\n",
              "\n",
              "<div id=\"df-77aaa17e-1426-410b-928b-0c705d61b9e1\">\n",
              "  <button class=\"colab-df-quickchart\" onclick=\"quickchart('df-77aaa17e-1426-410b-928b-0c705d61b9e1')\"\n",
              "            title=\"Suggest charts\"\n",
              "            style=\"display:none;\">\n",
              "\n",
              "<svg xmlns=\"http://www.w3.org/2000/svg\" height=\"24px\"viewBox=\"0 0 24 24\"\n",
              "     width=\"24px\">\n",
              "    <g>\n",
              "        <path d=\"M19 3H5c-1.1 0-2 .9-2 2v14c0 1.1.9 2 2 2h14c1.1 0 2-.9 2-2V5c0-1.1-.9-2-2-2zM9 17H7v-7h2v7zm4 0h-2V7h2v10zm4 0h-2v-4h2v4z\"/>\n",
              "    </g>\n",
              "</svg>\n",
              "  </button>\n",
              "\n",
              "<style>\n",
              "  .colab-df-quickchart {\n",
              "      --bg-color: #E8F0FE;\n",
              "      --fill-color: #1967D2;\n",
              "      --hover-bg-color: #E2EBFA;\n",
              "      --hover-fill-color: #174EA6;\n",
              "      --disabled-fill-color: #AAA;\n",
              "      --disabled-bg-color: #DDD;\n",
              "  }\n",
              "\n",
              "  [theme=dark] .colab-df-quickchart {\n",
              "      --bg-color: #3B4455;\n",
              "      --fill-color: #D2E3FC;\n",
              "      --hover-bg-color: #434B5C;\n",
              "      --hover-fill-color: #FFFFFF;\n",
              "      --disabled-bg-color: #3B4455;\n",
              "      --disabled-fill-color: #666;\n",
              "  }\n",
              "\n",
              "  .colab-df-quickchart {\n",
              "    background-color: var(--bg-color);\n",
              "    border: none;\n",
              "    border-radius: 50%;\n",
              "    cursor: pointer;\n",
              "    display: none;\n",
              "    fill: var(--fill-color);\n",
              "    height: 32px;\n",
              "    padding: 0;\n",
              "    width: 32px;\n",
              "  }\n",
              "\n",
              "  .colab-df-quickchart:hover {\n",
              "    background-color: var(--hover-bg-color);\n",
              "    box-shadow: 0 1px 2px rgba(60, 64, 67, 0.3), 0 1px 3px 1px rgba(60, 64, 67, 0.15);\n",
              "    fill: var(--button-hover-fill-color);\n",
              "  }\n",
              "\n",
              "  .colab-df-quickchart-complete:disabled,\n",
              "  .colab-df-quickchart-complete:disabled:hover {\n",
              "    background-color: var(--disabled-bg-color);\n",
              "    fill: var(--disabled-fill-color);\n",
              "    box-shadow: none;\n",
              "  }\n",
              "\n",
              "  .colab-df-spinner {\n",
              "    border: 2px solid var(--fill-color);\n",
              "    border-color: transparent;\n",
              "    border-bottom-color: var(--fill-color);\n",
              "    animation:\n",
              "      spin 1s steps(1) infinite;\n",
              "  }\n",
              "\n",
              "  @keyframes spin {\n",
              "    0% {\n",
              "      border-color: transparent;\n",
              "      border-bottom-color: var(--fill-color);\n",
              "      border-left-color: var(--fill-color);\n",
              "    }\n",
              "    20% {\n",
              "      border-color: transparent;\n",
              "      border-left-color: var(--fill-color);\n",
              "      border-top-color: var(--fill-color);\n",
              "    }\n",
              "    30% {\n",
              "      border-color: transparent;\n",
              "      border-left-color: var(--fill-color);\n",
              "      border-top-color: var(--fill-color);\n",
              "      border-right-color: var(--fill-color);\n",
              "    }\n",
              "    40% {\n",
              "      border-color: transparent;\n",
              "      border-right-color: var(--fill-color);\n",
              "      border-top-color: var(--fill-color);\n",
              "    }\n",
              "    60% {\n",
              "      border-color: transparent;\n",
              "      border-right-color: var(--fill-color);\n",
              "    }\n",
              "    80% {\n",
              "      border-color: transparent;\n",
              "      border-right-color: var(--fill-color);\n",
              "      border-bottom-color: var(--fill-color);\n",
              "    }\n",
              "    90% {\n",
              "      border-color: transparent;\n",
              "      border-bottom-color: var(--fill-color);\n",
              "    }\n",
              "  }\n",
              "</style>\n",
              "\n",
              "  <script>\n",
              "    async function quickchart(key) {\n",
              "      const quickchartButtonEl =\n",
              "        document.querySelector('#' + key + ' button');\n",
              "      quickchartButtonEl.disabled = true;  // To prevent multiple clicks.\n",
              "      quickchartButtonEl.classList.add('colab-df-spinner');\n",
              "      try {\n",
              "        const charts = await google.colab.kernel.invokeFunction(\n",
              "            'suggestCharts', [key], {});\n",
              "      } catch (error) {\n",
              "        console.error('Error during call to suggestCharts:', error);\n",
              "      }\n",
              "      quickchartButtonEl.classList.remove('colab-df-spinner');\n",
              "      quickchartButtonEl.classList.add('colab-df-quickchart-complete');\n",
              "    }\n",
              "    (() => {\n",
              "      let quickchartButtonEl =\n",
              "        document.querySelector('#df-77aaa17e-1426-410b-928b-0c705d61b9e1 button');\n",
              "      quickchartButtonEl.style.display =\n",
              "        google.colab.kernel.accessAllowed ? 'block' : 'none';\n",
              "    })();\n",
              "  </script>\n",
              "</div>\n",
              "\n",
              "  <div id=\"id_4bd44493-a4f1-4a27-976c-8adfe82d89d5\">\n",
              "    <style>\n",
              "      .colab-df-generate {\n",
              "        background-color: #E8F0FE;\n",
              "        border: none;\n",
              "        border-radius: 50%;\n",
              "        cursor: pointer;\n",
              "        display: none;\n",
              "        fill: #1967D2;\n",
              "        height: 32px;\n",
              "        padding: 0 0 0 0;\n",
              "        width: 32px;\n",
              "      }\n",
              "\n",
              "      .colab-df-generate:hover {\n",
              "        background-color: #E2EBFA;\n",
              "        box-shadow: 0px 1px 2px rgba(60, 64, 67, 0.3), 0px 1px 3px 1px rgba(60, 64, 67, 0.15);\n",
              "        fill: #174EA6;\n",
              "      }\n",
              "\n",
              "      [theme=dark] .colab-df-generate {\n",
              "        background-color: #3B4455;\n",
              "        fill: #D2E3FC;\n",
              "      }\n",
              "\n",
              "      [theme=dark] .colab-df-generate:hover {\n",
              "        background-color: #434B5C;\n",
              "        box-shadow: 0px 1px 3px 1px rgba(0, 0, 0, 0.15);\n",
              "        filter: drop-shadow(0px 1px 2px rgba(0, 0, 0, 0.3));\n",
              "        fill: #FFFFFF;\n",
              "      }\n",
              "    </style>\n",
              "    <button class=\"colab-df-generate\" onclick=\"generateWithVariable('X_resampled')\"\n",
              "            title=\"Generate code using this dataframe.\"\n",
              "            style=\"display:none;\">\n",
              "\n",
              "  <svg xmlns=\"http://www.w3.org/2000/svg\" height=\"24px\"viewBox=\"0 0 24 24\"\n",
              "       width=\"24px\">\n",
              "    <path d=\"M7,19H8.4L18.45,9,17,7.55,7,17.6ZM5,21V16.75L18.45,3.32a2,2,0,0,1,2.83,0l1.4,1.43a1.91,1.91,0,0,1,.58,1.4,1.91,1.91,0,0,1-.58,1.4L9.25,21ZM18.45,9,17,7.55Zm-12,3A5.31,5.31,0,0,0,4.9,8.1,5.31,5.31,0,0,0,1,6.5,5.31,5.31,0,0,0,4.9,4.9,5.31,5.31,0,0,0,6.5,1,5.31,5.31,0,0,0,8.1,4.9,5.31,5.31,0,0,0,12,6.5,5.46,5.46,0,0,0,6.5,12Z\"/>\n",
              "  </svg>\n",
              "    </button>\n",
              "    <script>\n",
              "      (() => {\n",
              "      const buttonEl =\n",
              "        document.querySelector('#id_4bd44493-a4f1-4a27-976c-8adfe82d89d5 button.colab-df-generate');\n",
              "      buttonEl.style.display =\n",
              "        google.colab.kernel.accessAllowed ? 'block' : 'none';\n",
              "\n",
              "      buttonEl.onclick = () => {\n",
              "        google.colab.notebook.generateWithVariable('X_resampled');\n",
              "      }\n",
              "      })();\n",
              "    </script>\n",
              "  </div>\n",
              "\n",
              "    </div>\n",
              "  </div>\n"
            ],
            "application/vnd.google.colaboratory.intrinsic+json": {
              "type": "dataframe",
              "variable_name": "X_resampled",
              "summary": "{\n  \"name\": \"X_resampled\",\n  \"rows\": 4435,\n  \"fields\": [\n    {\n      \"column\": \"Summary\",\n      \"properties\": {\n        \"dtype\": \"string\",\n        \"num_unique_values\": 4066,\n        \"samples\": [\n          \"Son loves the astro food but sampler small for the cost\",\n          \"Great\",\n          \"Ok but Miss Vickie's Are Better\"\n        ],\n        \"semantic_type\": \"\",\n        \"description\": \"\"\n      }\n    },\n    {\n      \"column\": \"Text\",\n      \"properties\": {\n        \"dtype\": \"string\",\n        \"num_unique_values\": 4313,\n        \"samples\": [\n          \"This is one of the best decaf coffee's I have ever had.  I was ordering this product from another website but found that Amazon's subscribe and safe plan is the most economical.  Great Product.\",\n          \"This coffee produced a dark and rich cup of coffee that tasted great.  I found this stuff to be ground a bit fine -- more along the lines of espresso than something I would put into my regular coffee maker, and way too fine for my press. I'd give it five stars except for the packaging: I've opened hundreds of bags of coffee in my time, but this is the first one that I pretty much destroyed.  The bag is sealed along each of the corners to make a seam at each edge and those seams don't like to come apart.  Unfortunately, the remaining opening was too small to get my tablespoon inside to get the coffee out, so I had to rip the sides out a bit.\",\n          \"As we all know.....any canned soup, organic or not, should be avoided or at least limited.  It does work for storm supplies due to its easy medium term storage and it being infrequently or never used.  It will end up in a hunting camp for a few days of quick meals toward the end of its shelf life.  Everything tastes better in fresh air and this stuff isn't bad.  Again, its use is very limited.<br /><br />Don't like the BPA issue either.  I did speak to Wolfgang Puck about PBA and their plans.  Like most, they are treading water to see what the government (friends of the fda) does or does not do about it.  What's a little more poison added to the current mix in processed foods.<br /><br />Ever notice that most of the Wolfgang Puck soup ingredients here on Amazon end at \\\"Contains 2% or less of the Following\\\"........?<br /><br />As I indicated above, we did try this soup, and it tasted ok, nothing special.  Try adding a little more sea salt. It is better than the MSG enhanced, preservative laden Campbell's brand crap, a brand we would not buy regardless of circumstance.  One never knows who actually made this soup.<br /><br />We consider the organic versions the lesser of (insert remaining cliche), and have a case......in case.\"\n        ],\n        \"semantic_type\": \"\",\n        \"description\": \"\"\n      }\n    }\n  ]\n}"
            }
          },
          "metadata": {},
          "execution_count": 22
        }
      ],
      "source": [
        "X_resampled"
      ]
    },
    {
      "cell_type": "code",
      "execution_count": 23,
      "id": "e346f915-63fd-4da8-8917-e07b57c4113f",
      "metadata": {
        "id": "e346f915-63fd-4da8-8917-e07b57c4113f",
        "outputId": "ab8b9445-6ae8-420d-ffb3-16b06d7ce090",
        "colab": {
          "base_uri": "https://localhost:8080/"
        }
      },
      "outputs": [
        {
          "output_type": "execute_result",
          "data": {
            "text/plain": [
              "0       1.0\n",
              "1       1.0\n",
              "2       1.0\n",
              "3       1.0\n",
              "4       1.0\n",
              "       ... \n",
              "4430    5.0\n",
              "4431    5.0\n",
              "4432    5.0\n",
              "4433    5.0\n",
              "4434    5.0\n",
              "Name: Score, Length: 4435, dtype: float64"
            ]
          },
          "metadata": {},
          "execution_count": 23
        }
      ],
      "source": [
        "y_resampled"
      ]
    },
    {
      "cell_type": "code",
      "execution_count": 24,
      "id": "67dd3267-8351-4e4b-b5fa-b798be9ffb24",
      "metadata": {
        "id": "67dd3267-8351-4e4b-b5fa-b798be9ffb24"
      },
      "outputs": [],
      "source": [
        "df_resampled = pd.DataFrame(X_resampled, columns=['Summary','Text'])\n",
        "df_resampled['Score'] = y_resampled"
      ]
    },
    {
      "cell_type": "code",
      "execution_count": 25,
      "id": "bf5ad642-55a0-4bef-946a-ea7a068ca343",
      "metadata": {
        "id": "bf5ad642-55a0-4bef-946a-ea7a068ca343",
        "outputId": "927f81a3-cca0-47eb-d491-ed306e93abee",
        "colab": {
          "base_uri": "https://localhost:8080/",
          "height": 206
        }
      },
      "outputs": [
        {
          "output_type": "execute_result",
          "data": {
            "text/plain": [
              "               Summary                                               Text  \\\n",
              "0        amish popcorn  worst popcorn ive ever bought.  chewy not fluf...   \n",
              "1                Awful  This tea is the most awful stuff I've ever put...   \n",
              "2              Garbage  Don't waste your money on any of the Kettle br...   \n",
              "3     Artificial taste  These cups are artifically sweetened with sucr...   \n",
              "4  Very disapointing!!  I received my order of Grove Square hot cocoa ...   \n",
              "\n",
              "   Score  \n",
              "0    1.0  \n",
              "1    1.0  \n",
              "2    1.0  \n",
              "3    1.0  \n",
              "4    1.0  "
            ],
            "text/html": [
              "\n",
              "  <div id=\"df-b7774438-6982-4943-b2b4-b753c72420a3\" class=\"colab-df-container\">\n",
              "    <div>\n",
              "<style scoped>\n",
              "    .dataframe tbody tr th:only-of-type {\n",
              "        vertical-align: middle;\n",
              "    }\n",
              "\n",
              "    .dataframe tbody tr th {\n",
              "        vertical-align: top;\n",
              "    }\n",
              "\n",
              "    .dataframe thead th {\n",
              "        text-align: right;\n",
              "    }\n",
              "</style>\n",
              "<table border=\"1\" class=\"dataframe\">\n",
              "  <thead>\n",
              "    <tr style=\"text-align: right;\">\n",
              "      <th></th>\n",
              "      <th>Summary</th>\n",
              "      <th>Text</th>\n",
              "      <th>Score</th>\n",
              "    </tr>\n",
              "  </thead>\n",
              "  <tbody>\n",
              "    <tr>\n",
              "      <th>0</th>\n",
              "      <td>amish popcorn</td>\n",
              "      <td>worst popcorn ive ever bought.  chewy not fluf...</td>\n",
              "      <td>1.0</td>\n",
              "    </tr>\n",
              "    <tr>\n",
              "      <th>1</th>\n",
              "      <td>Awful</td>\n",
              "      <td>This tea is the most awful stuff I've ever put...</td>\n",
              "      <td>1.0</td>\n",
              "    </tr>\n",
              "    <tr>\n",
              "      <th>2</th>\n",
              "      <td>Garbage</td>\n",
              "      <td>Don't waste your money on any of the Kettle br...</td>\n",
              "      <td>1.0</td>\n",
              "    </tr>\n",
              "    <tr>\n",
              "      <th>3</th>\n",
              "      <td>Artificial taste</td>\n",
              "      <td>These cups are artifically sweetened with sucr...</td>\n",
              "      <td>1.0</td>\n",
              "    </tr>\n",
              "    <tr>\n",
              "      <th>4</th>\n",
              "      <td>Very disapointing!!</td>\n",
              "      <td>I received my order of Grove Square hot cocoa ...</td>\n",
              "      <td>1.0</td>\n",
              "    </tr>\n",
              "  </tbody>\n",
              "</table>\n",
              "</div>\n",
              "    <div class=\"colab-df-buttons\">\n",
              "\n",
              "  <div class=\"colab-df-container\">\n",
              "    <button class=\"colab-df-convert\" onclick=\"convertToInteractive('df-b7774438-6982-4943-b2b4-b753c72420a3')\"\n",
              "            title=\"Convert this dataframe to an interactive table.\"\n",
              "            style=\"display:none;\">\n",
              "\n",
              "  <svg xmlns=\"http://www.w3.org/2000/svg\" height=\"24px\" viewBox=\"0 -960 960 960\">\n",
              "    <path d=\"M120-120v-720h720v720H120Zm60-500h600v-160H180v160Zm220 220h160v-160H400v160Zm0 220h160v-160H400v160ZM180-400h160v-160H180v160Zm440 0h160v-160H620v160ZM180-180h160v-160H180v160Zm440 0h160v-160H620v160Z\"/>\n",
              "  </svg>\n",
              "    </button>\n",
              "\n",
              "  <style>\n",
              "    .colab-df-container {\n",
              "      display:flex;\n",
              "      gap: 12px;\n",
              "    }\n",
              "\n",
              "    .colab-df-convert {\n",
              "      background-color: #E8F0FE;\n",
              "      border: none;\n",
              "      border-radius: 50%;\n",
              "      cursor: pointer;\n",
              "      display: none;\n",
              "      fill: #1967D2;\n",
              "      height: 32px;\n",
              "      padding: 0 0 0 0;\n",
              "      width: 32px;\n",
              "    }\n",
              "\n",
              "    .colab-df-convert:hover {\n",
              "      background-color: #E2EBFA;\n",
              "      box-shadow: 0px 1px 2px rgba(60, 64, 67, 0.3), 0px 1px 3px 1px rgba(60, 64, 67, 0.15);\n",
              "      fill: #174EA6;\n",
              "    }\n",
              "\n",
              "    .colab-df-buttons div {\n",
              "      margin-bottom: 4px;\n",
              "    }\n",
              "\n",
              "    [theme=dark] .colab-df-convert {\n",
              "      background-color: #3B4455;\n",
              "      fill: #D2E3FC;\n",
              "    }\n",
              "\n",
              "    [theme=dark] .colab-df-convert:hover {\n",
              "      background-color: #434B5C;\n",
              "      box-shadow: 0px 1px 3px 1px rgba(0, 0, 0, 0.15);\n",
              "      filter: drop-shadow(0px 1px 2px rgba(0, 0, 0, 0.3));\n",
              "      fill: #FFFFFF;\n",
              "    }\n",
              "  </style>\n",
              "\n",
              "    <script>\n",
              "      const buttonEl =\n",
              "        document.querySelector('#df-b7774438-6982-4943-b2b4-b753c72420a3 button.colab-df-convert');\n",
              "      buttonEl.style.display =\n",
              "        google.colab.kernel.accessAllowed ? 'block' : 'none';\n",
              "\n",
              "      async function convertToInteractive(key) {\n",
              "        const element = document.querySelector('#df-b7774438-6982-4943-b2b4-b753c72420a3');\n",
              "        const dataTable =\n",
              "          await google.colab.kernel.invokeFunction('convertToInteractive',\n",
              "                                                    [key], {});\n",
              "        if (!dataTable) return;\n",
              "\n",
              "        const docLinkHtml = 'Like what you see? Visit the ' +\n",
              "          '<a target=\"_blank\" href=https://colab.research.google.com/notebooks/data_table.ipynb>data table notebook</a>'\n",
              "          + ' to learn more about interactive tables.';\n",
              "        element.innerHTML = '';\n",
              "        dataTable['output_type'] = 'display_data';\n",
              "        await google.colab.output.renderOutput(dataTable, element);\n",
              "        const docLink = document.createElement('div');\n",
              "        docLink.innerHTML = docLinkHtml;\n",
              "        element.appendChild(docLink);\n",
              "      }\n",
              "    </script>\n",
              "  </div>\n",
              "\n",
              "\n",
              "<div id=\"df-40ea4fe6-acbc-4562-a038-28fcd16f0484\">\n",
              "  <button class=\"colab-df-quickchart\" onclick=\"quickchart('df-40ea4fe6-acbc-4562-a038-28fcd16f0484')\"\n",
              "            title=\"Suggest charts\"\n",
              "            style=\"display:none;\">\n",
              "\n",
              "<svg xmlns=\"http://www.w3.org/2000/svg\" height=\"24px\"viewBox=\"0 0 24 24\"\n",
              "     width=\"24px\">\n",
              "    <g>\n",
              "        <path d=\"M19 3H5c-1.1 0-2 .9-2 2v14c0 1.1.9 2 2 2h14c1.1 0 2-.9 2-2V5c0-1.1-.9-2-2-2zM9 17H7v-7h2v7zm4 0h-2V7h2v10zm4 0h-2v-4h2v4z\"/>\n",
              "    </g>\n",
              "</svg>\n",
              "  </button>\n",
              "\n",
              "<style>\n",
              "  .colab-df-quickchart {\n",
              "      --bg-color: #E8F0FE;\n",
              "      --fill-color: #1967D2;\n",
              "      --hover-bg-color: #E2EBFA;\n",
              "      --hover-fill-color: #174EA6;\n",
              "      --disabled-fill-color: #AAA;\n",
              "      --disabled-bg-color: #DDD;\n",
              "  }\n",
              "\n",
              "  [theme=dark] .colab-df-quickchart {\n",
              "      --bg-color: #3B4455;\n",
              "      --fill-color: #D2E3FC;\n",
              "      --hover-bg-color: #434B5C;\n",
              "      --hover-fill-color: #FFFFFF;\n",
              "      --disabled-bg-color: #3B4455;\n",
              "      --disabled-fill-color: #666;\n",
              "  }\n",
              "\n",
              "  .colab-df-quickchart {\n",
              "    background-color: var(--bg-color);\n",
              "    border: none;\n",
              "    border-radius: 50%;\n",
              "    cursor: pointer;\n",
              "    display: none;\n",
              "    fill: var(--fill-color);\n",
              "    height: 32px;\n",
              "    padding: 0;\n",
              "    width: 32px;\n",
              "  }\n",
              "\n",
              "  .colab-df-quickchart:hover {\n",
              "    background-color: var(--hover-bg-color);\n",
              "    box-shadow: 0 1px 2px rgba(60, 64, 67, 0.3), 0 1px 3px 1px rgba(60, 64, 67, 0.15);\n",
              "    fill: var(--button-hover-fill-color);\n",
              "  }\n",
              "\n",
              "  .colab-df-quickchart-complete:disabled,\n",
              "  .colab-df-quickchart-complete:disabled:hover {\n",
              "    background-color: var(--disabled-bg-color);\n",
              "    fill: var(--disabled-fill-color);\n",
              "    box-shadow: none;\n",
              "  }\n",
              "\n",
              "  .colab-df-spinner {\n",
              "    border: 2px solid var(--fill-color);\n",
              "    border-color: transparent;\n",
              "    border-bottom-color: var(--fill-color);\n",
              "    animation:\n",
              "      spin 1s steps(1) infinite;\n",
              "  }\n",
              "\n",
              "  @keyframes spin {\n",
              "    0% {\n",
              "      border-color: transparent;\n",
              "      border-bottom-color: var(--fill-color);\n",
              "      border-left-color: var(--fill-color);\n",
              "    }\n",
              "    20% {\n",
              "      border-color: transparent;\n",
              "      border-left-color: var(--fill-color);\n",
              "      border-top-color: var(--fill-color);\n",
              "    }\n",
              "    30% {\n",
              "      border-color: transparent;\n",
              "      border-left-color: var(--fill-color);\n",
              "      border-top-color: var(--fill-color);\n",
              "      border-right-color: var(--fill-color);\n",
              "    }\n",
              "    40% {\n",
              "      border-color: transparent;\n",
              "      border-right-color: var(--fill-color);\n",
              "      border-top-color: var(--fill-color);\n",
              "    }\n",
              "    60% {\n",
              "      border-color: transparent;\n",
              "      border-right-color: var(--fill-color);\n",
              "    }\n",
              "    80% {\n",
              "      border-color: transparent;\n",
              "      border-right-color: var(--fill-color);\n",
              "      border-bottom-color: var(--fill-color);\n",
              "    }\n",
              "    90% {\n",
              "      border-color: transparent;\n",
              "      border-bottom-color: var(--fill-color);\n",
              "    }\n",
              "  }\n",
              "</style>\n",
              "\n",
              "  <script>\n",
              "    async function quickchart(key) {\n",
              "      const quickchartButtonEl =\n",
              "        document.querySelector('#' + key + ' button');\n",
              "      quickchartButtonEl.disabled = true;  // To prevent multiple clicks.\n",
              "      quickchartButtonEl.classList.add('colab-df-spinner');\n",
              "      try {\n",
              "        const charts = await google.colab.kernel.invokeFunction(\n",
              "            'suggestCharts', [key], {});\n",
              "      } catch (error) {\n",
              "        console.error('Error during call to suggestCharts:', error);\n",
              "      }\n",
              "      quickchartButtonEl.classList.remove('colab-df-spinner');\n",
              "      quickchartButtonEl.classList.add('colab-df-quickchart-complete');\n",
              "    }\n",
              "    (() => {\n",
              "      let quickchartButtonEl =\n",
              "        document.querySelector('#df-40ea4fe6-acbc-4562-a038-28fcd16f0484 button');\n",
              "      quickchartButtonEl.style.display =\n",
              "        google.colab.kernel.accessAllowed ? 'block' : 'none';\n",
              "    })();\n",
              "  </script>\n",
              "</div>\n",
              "\n",
              "    </div>\n",
              "  </div>\n"
            ],
            "application/vnd.google.colaboratory.intrinsic+json": {
              "type": "dataframe",
              "variable_name": "df_resampled",
              "summary": "{\n  \"name\": \"df_resampled\",\n  \"rows\": 4435,\n  \"fields\": [\n    {\n      \"column\": \"Summary\",\n      \"properties\": {\n        \"dtype\": \"string\",\n        \"num_unique_values\": 4066,\n        \"samples\": [\n          \"Son loves the astro food but sampler small for the cost\",\n          \"Great\",\n          \"Ok but Miss Vickie's Are Better\"\n        ],\n        \"semantic_type\": \"\",\n        \"description\": \"\"\n      }\n    },\n    {\n      \"column\": \"Text\",\n      \"properties\": {\n        \"dtype\": \"string\",\n        \"num_unique_values\": 4313,\n        \"samples\": [\n          \"This is one of the best decaf coffee's I have ever had.  I was ordering this product from another website but found that Amazon's subscribe and safe plan is the most economical.  Great Product.\",\n          \"This coffee produced a dark and rich cup of coffee that tasted great.  I found this stuff to be ground a bit fine -- more along the lines of espresso than something I would put into my regular coffee maker, and way too fine for my press. I'd give it five stars except for the packaging: I've opened hundreds of bags of coffee in my time, but this is the first one that I pretty much destroyed.  The bag is sealed along each of the corners to make a seam at each edge and those seams don't like to come apart.  Unfortunately, the remaining opening was too small to get my tablespoon inside to get the coffee out, so I had to rip the sides out a bit.\",\n          \"As we all know.....any canned soup, organic or not, should be avoided or at least limited.  It does work for storm supplies due to its easy medium term storage and it being infrequently or never used.  It will end up in a hunting camp for a few days of quick meals toward the end of its shelf life.  Everything tastes better in fresh air and this stuff isn't bad.  Again, its use is very limited.<br /><br />Don't like the BPA issue either.  I did speak to Wolfgang Puck about PBA and their plans.  Like most, they are treading water to see what the government (friends of the fda) does or does not do about it.  What's a little more poison added to the current mix in processed foods.<br /><br />Ever notice that most of the Wolfgang Puck soup ingredients here on Amazon end at \\\"Contains 2% or less of the Following\\\"........?<br /><br />As I indicated above, we did try this soup, and it tasted ok, nothing special.  Try adding a little more sea salt. It is better than the MSG enhanced, preservative laden Campbell's brand crap, a brand we would not buy regardless of circumstance.  One never knows who actually made this soup.<br /><br />We consider the organic versions the lesser of (insert remaining cliche), and have a case......in case.\"\n        ],\n        \"semantic_type\": \"\",\n        \"description\": \"\"\n      }\n    },\n    {\n      \"column\": \"Score\",\n      \"properties\": {\n        \"dtype\": \"number\",\n        \"std\": 1.4143730271717496,\n        \"min\": 1.0,\n        \"max\": 5.0,\n        \"num_unique_values\": 5,\n        \"samples\": [\n          2.0,\n          5.0,\n          3.0\n        ],\n        \"semantic_type\": \"\",\n        \"description\": \"\"\n      }\n    }\n  ]\n}"
            }
          },
          "metadata": {},
          "execution_count": 25
        }
      ],
      "source": [
        "df_resampled.head()"
      ]
    },
    {
      "cell_type": "code",
      "execution_count": 26,
      "id": "0cee6771-39df-4b07-9671-75e600452e4d",
      "metadata": {
        "id": "0cee6771-39df-4b07-9671-75e600452e4d",
        "outputId": "22102c6f-786e-43f4-dc49-990c473ba918",
        "colab": {
          "base_uri": "https://localhost:8080/"
        }
      },
      "outputs": [
        {
          "output_type": "execute_result",
          "data": {
            "text/plain": [
              "(4435, 3)"
            ]
          },
          "metadata": {},
          "execution_count": 26
        }
      ],
      "source": [
        "df_resampled.shape"
      ]
    },
    {
      "cell_type": "code",
      "execution_count": 27,
      "id": "4946f23f-4840-47d0-8540-291a8c064dcc",
      "metadata": {
        "id": "4946f23f-4840-47d0-8540-291a8c064dcc"
      },
      "outputs": [],
      "source": [
        "df=df_resampled"
      ]
    },
    {
      "cell_type": "code",
      "execution_count": 28,
      "id": "dbe34576-b830-4117-9bb6-764d6baba462",
      "metadata": {
        "id": "dbe34576-b830-4117-9bb6-764d6baba462",
        "outputId": "7e0e86c0-64a6-4e92-88e2-e201ffa53b89",
        "colab": {
          "base_uri": "https://localhost:8080/",
          "height": 495
        }
      },
      "outputs": [
        {
          "output_type": "display_data",
          "data": {
            "text/plain": [
              "<Figure size 1000x500 with 1 Axes>"
            ],
            "image/png": "[encoded data removed]"
          },
          "metadata": {}
        }
      ],
      "source": [
        "plt.figure(figsize=(10, 5))\n",
        "df['Score'].value_counts().sort_index().plot(kind='bar')\n",
        "plt.title('Distribution of Scores')\n",
        "plt.xlabel('Score')\n",
        "plt.ylabel('Count')\n",
        "plt.show()"
      ]
    },
    {
      "cell_type": "code",
      "execution_count": 29,
      "id": "b283f747-b573-43be-a78e-d171965f42f1",
      "metadata": {
        "id": "b283f747-b573-43be-a78e-d171965f42f1",
        "outputId": "2f35de27-3072-4814-ca49-06242cc00607",
        "colab": {
          "base_uri": "https://localhost:8080/",
          "height": 206
        }
      },
      "outputs": [
        {
          "output_type": "execute_result",
          "data": {
            "text/plain": [
              "               Summary                                               Text  \\\n",
              "0        amish popcorn  worst popcorn ive ever bought.  chewy not fluf...   \n",
              "1                Awful  This tea is the most awful stuff I've ever put...   \n",
              "2              Garbage  Don't waste your money on any of the Kettle br...   \n",
              "3     Artificial taste  These cups are artifically sweetened with sucr...   \n",
              "4  Very disapointing!!  I received my order of Grove Square hot cocoa ...   \n",
              "\n",
              "   Score  \n",
              "0    1.0  \n",
              "1    1.0  \n",
              "2    1.0  \n",
              "3    1.0  \n",
              "4    1.0  "
            ],
            "text/html": [
              "\n",
              "  <div id=\"df-958b18e3-c694-4355-acd1-d9d810d9f84d\" class=\"colab-df-container\">\n",
              "    <div>\n",
              "<style scoped>\n",
              "    .dataframe tbody tr th:only-of-type {\n",
              "        vertical-align: middle;\n",
              "    }\n",
              "\n",
              "    .dataframe tbody tr th {\n",
              "        vertical-align: top;\n",
              "    }\n",
              "\n",
              "    .dataframe thead th {\n",
              "        text-align: right;\n",
              "    }\n",
              "</style>\n",
              "<table border=\"1\" class=\"dataframe\">\n",
              "  <thead>\n",
              "    <tr style=\"text-align: right;\">\n",
              "      <th></th>\n",
              "      <th>Summary</th>\n",
              "      <th>Text</th>\n",
              "      <th>Score</th>\n",
              "    </tr>\n",
              "  </thead>\n",
              "  <tbody>\n",
              "    <tr>\n",
              "      <th>0</th>\n",
              "      <td>amish popcorn</td>\n",
              "      <td>worst popcorn ive ever bought.  chewy not fluf...</td>\n",
              "      <td>1.0</td>\n",
              "    </tr>\n",
              "    <tr>\n",
              "      <th>1</th>\n",
              "      <td>Awful</td>\n",
              "      <td>This tea is the most awful stuff I've ever put...</td>\n",
              "      <td>1.0</td>\n",
              "    </tr>\n",
              "    <tr>\n",
              "      <th>2</th>\n",
              "      <td>Garbage</td>\n",
              "      <td>Don't waste your money on any of the Kettle br...</td>\n",
              "      <td>1.0</td>\n",
              "    </tr>\n",
              "    <tr>\n",
              "      <th>3</th>\n",
              "      <td>Artificial taste</td>\n",
              "      <td>These cups are artifically sweetened with sucr...</td>\n",
              "      <td>1.0</td>\n",
              "    </tr>\n",
              "    <tr>\n",
              "      <th>4</th>\n",
              "      <td>Very disapointing!!</td>\n",
              "      <td>I received my order of Grove Square hot cocoa ...</td>\n",
              "      <td>1.0</td>\n",
              "    </tr>\n",
              "  </tbody>\n",
              "</table>\n",
              "</div>\n",
              "    <div class=\"colab-df-buttons\">\n",
              "\n",
              "  <div class=\"colab-df-container\">\n",
              "    <button class=\"colab-df-convert\" onclick=\"convertToInteractive('df-958b18e3-c694-4355-acd1-d9d810d9f84d')\"\n",
              "            title=\"Convert this dataframe to an interactive table.\"\n",
              "            style=\"display:none;\">\n",
              "\n",
              "  <svg xmlns=\"http://www.w3.org/2000/svg\" height=\"24px\" viewBox=\"0 -960 960 960\">\n",
              "    <path d=\"M120-120v-720h720v720H120Zm60-500h600v-160H180v160Zm220 220h160v-160H400v160Zm0 220h160v-160H400v160ZM180-400h160v-160H180v160Zm440 0h160v-160H620v160ZM180-180h160v-160H180v160Zm440 0h160v-160H620v160Z\"/>\n",
              "  </svg>\n",
              "    </button>\n",
              "\n",
              "  <style>\n",
              "    .colab-df-container {\n",
              "      display:flex;\n",
              "      gap: 12px;\n",
              "    }\n",
              "\n",
              "    .colab-df-convert {\n",
              "      background-color: #E8F0FE;\n",
              "      border: none;\n",
              "      border-radius: 50%;\n",
              "      cursor: pointer;\n",
              "      display: none;\n",
              "      fill: #1967D2;\n",
              "      height: 32px;\n",
              "      padding: 0 0 0 0;\n",
              "      width: 32px;\n",
              "    }\n",
              "\n",
              "    .colab-df-convert:hover {\n",
              "      background-color: #E2EBFA;\n",
              "      box-shadow: 0px 1px 2px rgba(60, 64, 67, 0.3), 0px 1px 3px 1px rgba(60, 64, 67, 0.15);\n",
              "      fill: #174EA6;\n",
              "    }\n",
              "\n",
              "    .colab-df-buttons div {\n",
              "      margin-bottom: 4px;\n",
              "    }\n",
              "\n",
              "    [theme=dark] .colab-df-convert {\n",
              "      background-color: #3B4455;\n",
              "      fill: #D2E3FC;\n",
              "    }\n",
              "\n",
              "    [theme=dark] .colab-df-convert:hover {\n",
              "      background-color: #434B5C;\n",
              "      box-shadow: 0px 1px 3px 1px rgba(0, 0, 0, 0.15);\n",
              "      filter: drop-shadow(0px 1px 2px rgba(0, 0, 0, 0.3));\n",
              "      fill: #FFFFFF;\n",
              "    }\n",
              "  </style>\n",
              "\n",
              "    <script>\n",
              "      const buttonEl =\n",
              "        document.querySelector('#df-958b18e3-c694-4355-acd1-d9d810d9f84d button.colab-df-convert');\n",
              "      buttonEl.style.display =\n",
              "        google.colab.kernel.accessAllowed ? 'block' : 'none';\n",
              "\n",
              "      async function convertToInteractive(key) {\n",
              "        const element = document.querySelector('#df-958b18e3-c694-4355-acd1-d9d810d9f84d');\n",
              "        const dataTable =\n",
              "          await google.colab.kernel.invokeFunction('convertToInteractive',\n",
              "                                                    [key], {});\n",
              "        if (!dataTable) return;\n",
              "\n",
              "        const docLinkHtml = 'Like what you see? Visit the ' +\n",
              "          '<a target=\"_blank\" href=https://colab.research.google.com/notebooks/data_table.ipynb>data table notebook</a>'\n",
              "          + ' to learn more about interactive tables.';\n",
              "        element.innerHTML = '';\n",
              "        dataTable['output_type'] = 'display_data';\n",
              "        await google.colab.output.renderOutput(dataTable, element);\n",
              "        const docLink = document.createElement('div');\n",
              "        docLink.innerHTML = docLinkHtml;\n",
              "        element.appendChild(docLink);\n",
              "      }\n",
              "    </script>\n",
              "  </div>\n",
              "\n",
              "\n",
              "<div id=\"df-322471a5-8630-4042-aaa0-2109c3105164\">\n",
              "  <button class=\"colab-df-quickchart\" onclick=\"quickchart('df-322471a5-8630-4042-aaa0-2109c3105164')\"\n",
              "            title=\"Suggest charts\"\n",
              "            style=\"display:none;\">\n",
              "\n",
              "<svg xmlns=\"http://www.w3.org/2000/svg\" height=\"24px\"viewBox=\"0 0 24 24\"\n",
              "     width=\"24px\">\n",
              "    <g>\n",
              "        <path d=\"M19 3H5c-1.1 0-2 .9-2 2v14c0 1.1.9 2 2 2h14c1.1 0 2-.9 2-2V5c0-1.1-.9-2-2-2zM9 17H7v-7h2v7zm4 0h-2V7h2v10zm4 0h-2v-4h2v4z\"/>\n",
              "    </g>\n",
              "</svg>\n",
              "  </button>\n",
              "\n",
              "<style>\n",
              "  .colab-df-quickchart {\n",
              "      --bg-color: #E8F0FE;\n",
              "      --fill-color: #1967D2;\n",
              "      --hover-bg-color: #E2EBFA;\n",
              "      --hover-fill-color: #174EA6;\n",
              "      --disabled-fill-color: #AAA;\n",
              "      --disabled-bg-color: #DDD;\n",
              "  }\n",
              "\n",
              "  [theme=dark] .colab-df-quickchart {\n",
              "      --bg-color: #3B4455;\n",
              "      --fill-color: #D2E3FC;\n",
              "      --hover-bg-color: #434B5C;\n",
              "      --hover-fill-color: #FFFFFF;\n",
              "      --disabled-bg-color: #3B4455;\n",
              "      --disabled-fill-color: #666;\n",
              "  }\n",
              "\n",
              "  .colab-df-quickchart {\n",
              "    background-color: var(--bg-color);\n",
              "    border: none;\n",
              "    border-radius: 50%;\n",
              "    cursor: pointer;\n",
              "    display: none;\n",
              "    fill: var(--fill-color);\n",
              "    height: 32px;\n",
              "    padding: 0;\n",
              "    width: 32px;\n",
              "  }\n",
              "\n",
              "  .colab-df-quickchart:hover {\n",
              "    background-color: var(--hover-bg-color);\n",
              "    box-shadow: 0 1px 2px rgba(60, 64, 67, 0.3), 0 1px 3px 1px rgba(60, 64, 67, 0.15);\n",
              "    fill: var(--button-hover-fill-color);\n",
              "  }\n",
              "\n",
              "  .colab-df-quickchart-complete:disabled,\n",
              "  .colab-df-quickchart-complete:disabled:hover {\n",
              "    background-color: var(--disabled-bg-color);\n",
              "    fill: var(--disabled-fill-color);\n",
              "    box-shadow: none;\n",
              "  }\n",
              "\n",
              "  .colab-df-spinner {\n",
              "    border: 2px solid var(--fill-color);\n",
              "    border-color: transparent;\n",
              "    border-bottom-color: var(--fill-color);\n",
              "    animation:\n",
              "      spin 1s steps(1) infinite;\n",
              "  }\n",
              "\n",
              "  @keyframes spin {\n",
              "    0% {\n",
              "      border-color: transparent;\n",
              "      border-bottom-color: var(--fill-color);\n",
              "      border-left-color: var(--fill-color);\n",
              "    }\n",
              "    20% {\n",
              "      border-color: transparent;\n",
              "      border-left-color: var(--fill-color);\n",
              "      border-top-color: var(--fill-color);\n",
              "    }\n",
              "    30% {\n",
              "      border-color: transparent;\n",
              "      border-left-color: var(--fill-color);\n",
              "      border-top-color: var(--fill-color);\n",
              "      border-right-color: var(--fill-color);\n",
              "    }\n",
              "    40% {\n",
              "      border-color: transparent;\n",
              "      border-right-color: var(--fill-color);\n",
              "      border-top-color: var(--fill-color);\n",
              "    }\n",
              "    60% {\n",
              "      border-color: transparent;\n",
              "      border-right-color: var(--fill-color);\n",
              "    }\n",
              "    80% {\n",
              "      border-color: transparent;\n",
              "      border-right-color: var(--fill-color);\n",
              "      border-bottom-color: var(--fill-color);\n",
              "    }\n",
              "    90% {\n",
              "      border-color: transparent;\n",
              "      border-bottom-color: var(--fill-color);\n",
              "    }\n",
              "  }\n",
              "</style>\n",
              "\n",
              "  <script>\n",
              "    async function quickchart(key) {\n",
              "      const quickchartButtonEl =\n",
              "        document.querySelector('#' + key + ' button');\n",
              "      quickchartButtonEl.disabled = true;  // To prevent multiple clicks.\n",
              "      quickchartButtonEl.classList.add('colab-df-spinner');\n",
              "      try {\n",
              "        const charts = await google.colab.kernel.invokeFunction(\n",
              "            'suggestCharts', [key], {});\n",
              "      } catch (error) {\n",
              "        console.error('Error during call to suggestCharts:', error);\n",
              "      }\n",
              "      quickchartButtonEl.classList.remove('colab-df-spinner');\n",
              "      quickchartButtonEl.classList.add('colab-df-quickchart-complete');\n",
              "    }\n",
              "    (() => {\n",
              "      let quickchartButtonEl =\n",
              "        document.querySelector('#df-322471a5-8630-4042-aaa0-2109c3105164 button');\n",
              "      quickchartButtonEl.style.display =\n",
              "        google.colab.kernel.accessAllowed ? 'block' : 'none';\n",
              "    })();\n",
              "  </script>\n",
              "</div>\n",
              "\n",
              "    </div>\n",
              "  </div>\n"
            ],
            "application/vnd.google.colaboratory.intrinsic+json": {
              "type": "dataframe",
              "variable_name": "df",
              "summary": "{\n  \"name\": \"df\",\n  \"rows\": 4435,\n  \"fields\": [\n    {\n      \"column\": \"Summary\",\n      \"properties\": {\n        \"dtype\": \"string\",\n        \"num_unique_values\": 4066,\n        \"samples\": [\n          \"Son loves the astro food but sampler small for the cost\",\n          \"Great\",\n          \"Ok but Miss Vickie's Are Better\"\n        ],\n        \"semantic_type\": \"\",\n        \"description\": \"\"\n      }\n    },\n    {\n      \"column\": \"Text\",\n      \"properties\": {\n        \"dtype\": \"string\",\n        \"num_unique_values\": 4313,\n        \"samples\": [\n          \"This is one of the best decaf coffee's I have ever had.  I was ordering this product from another website but found that Amazon's subscribe and safe plan is the most economical.  Great Product.\",\n          \"This coffee produced a dark and rich cup of coffee that tasted great.  I found this stuff to be ground a bit fine -- more along the lines of espresso than something I would put into my regular coffee maker, and way too fine for my press. I'd give it five stars except for the packaging: I've opened hundreds of bags of coffee in my time, but this is the first one that I pretty much destroyed.  The bag is sealed along each of the corners to make a seam at each edge and those seams don't like to come apart.  Unfortunately, the remaining opening was too small to get my tablespoon inside to get the coffee out, so I had to rip the sides out a bit.\",\n          \"As we all know.....any canned soup, organic or not, should be avoided or at least limited.  It does work for storm supplies due to its easy medium term storage and it being infrequently or never used.  It will end up in a hunting camp for a few days of quick meals toward the end of its shelf life.  Everything tastes better in fresh air and this stuff isn't bad.  Again, its use is very limited.<br /><br />Don't like the BPA issue either.  I did speak to Wolfgang Puck about PBA and their plans.  Like most, they are treading water to see what the government (friends of the fda) does or does not do about it.  What's a little more poison added to the current mix in processed foods.<br /><br />Ever notice that most of the Wolfgang Puck soup ingredients here on Amazon end at \\\"Contains 2% or less of the Following\\\"........?<br /><br />As I indicated above, we did try this soup, and it tasted ok, nothing special.  Try adding a little more sea salt. It is better than the MSG enhanced, preservative laden Campbell's brand crap, a brand we would not buy regardless of circumstance.  One never knows who actually made this soup.<br /><br />We consider the organic versions the lesser of (insert remaining cliche), and have a case......in case.\"\n        ],\n        \"semantic_type\": \"\",\n        \"description\": \"\"\n      }\n    },\n    {\n      \"column\": \"Score\",\n      \"properties\": {\n        \"dtype\": \"number\",\n        \"std\": 1.4143730271717496,\n        \"min\": 1.0,\n        \"max\": 5.0,\n        \"num_unique_values\": 5,\n        \"samples\": [\n          2.0,\n          5.0,\n          3.0\n        ],\n        \"semantic_type\": \"\",\n        \"description\": \"\"\n      }\n    }\n  ]\n}"
            }
          },
          "metadata": {},
          "execution_count": 29
        }
      ],
      "source": [
        "df.head()"
      ]
    },
    {
      "cell_type": "markdown",
      "id": "69e5c8be-70af-40a1-931e-382ebee7d451",
      "metadata": {
        "id": "69e5c8be-70af-40a1-931e-382ebee7d451"
      },
      "source": [
        "### Removing null value"
      ]
    },
    {
      "cell_type": "code",
      "execution_count": 30,
      "id": "db17ba9a-1188-4131-b534-a4dbb9d7a4d9",
      "metadata": {
        "id": "db17ba9a-1188-4131-b534-a4dbb9d7a4d9"
      },
      "outputs": [],
      "source": [
        "df=df.dropna()"
      ]
    },
    {
      "cell_type": "code",
      "execution_count": null,
      "id": "8271d709-8851-4a77-a687-4f31cc8d59f2",
      "metadata": {
        "id": "8271d709-8851-4a77-a687-4f31cc8d59f2",
        "outputId": "5a834c40-f343-4701-bab8-b5777c69ab16"
      },
      "outputs": [
        {
          "data": {
            "text/plain": [
              "(14068, 3)"
            ]
          },
          "execution_count": 27,
          "metadata": {},
          "output_type": "execute_result"
        }
      ],
      "source": [
        "df.shape"
      ]
    },
    {
      "cell_type": "markdown",
      "id": "967c7b83-1faf-403b-845b-338e4e3bdc2c",
      "metadata": {
        "id": "967c7b83-1faf-403b-845b-338e4e3bdc2c"
      },
      "source": [
        "## Text pre processing"
      ]
    },
    {
      "cell_type": "markdown",
      "id": "a8f2cd8a-57cd-4d0c-9d19-b59bb9c7ded4",
      "metadata": {
        "id": "a8f2cd8a-57cd-4d0c-9d19-b59bb9c7ded4"
      },
      "source": [
        "## 1.stop words\n",
        "## 2. remove special charechter\n",
        "## 3. convert the text to lower case\n",
        "## 3. stemming\n",
        "## 4. lematization"
      ]
    },
    {
      "cell_type": "code",
      "execution_count": 31,
      "id": "f48c4101-0601-47b8-9006-1f9775278b6b",
      "metadata": {
        "id": "f48c4101-0601-47b8-9006-1f9775278b6b"
      },
      "outputs": [],
      "source": [
        "import nltk\n",
        "from nltk.corpus import stopwords\n",
        "from nltk.stem import PorterStemmer, WordNetLemmatizer\n",
        "from nltk.tokenize import word_tokenize\n",
        "import re"
      ]
    },
    {
      "cell_type": "code",
      "execution_count": 32,
      "id": "f98f7e2f-4dd1-4f37-8ca2-70a737a44e78",
      "metadata": {
        "id": "f98f7e2f-4dd1-4f37-8ca2-70a737a44e78",
        "outputId": "1cb7c824-39e5-4643-a208-cf2a0a97cd08",
        "colab": {
          "base_uri": "https://localhost:8080/"
        }
      },
      "outputs": [
        {
          "output_type": "stream",
          "name": "stderr",
          "text": [
            "[nltk_data] Downloading package punkt to /root/nltk_data...\n",
            "[nltk_data]   Unzipping tokenizers/punkt.zip.\n",
            "[nltk_data] Downloading package wordnet to /root/nltk_data...\n",
            "[nltk_data] Downloading package stopwords to /root/nltk_data...\n",
            "[nltk_data]   Unzipping corpora/stopwords.zip.\n"
          ]
        },
        {
          "output_type": "execute_result",
          "data": {
            "text/plain": [
              "True"
            ]
          },
          "metadata": {},
          "execution_count": 32
        }
      ],
      "source": [
        "nltk.download('punkt')\n",
        "nltk.download('wordnet')\n",
        "nltk.download('stopwords')"
      ]
    },
    {
      "cell_type": "code",
      "execution_count": 33,
      "id": "84dde1a2-47a5-4503-9997-7d9c563a2733",
      "metadata": {
        "id": "84dde1a2-47a5-4503-9997-7d9c563a2733",
        "outputId": "fa4b46a3-fdd7-474d-f51e-270049839128",
        "colab": {
          "base_uri": "https://localhost:8080/",
          "height": 35
        }
      },
      "outputs": [
        {
          "output_type": "execute_result",
          "data": {
            "text/plain": [
              "'3.8.1'"
            ],
            "application/vnd.google.colaboratory.intrinsic+json": {
              "type": "string"
            }
          },
          "metadata": {},
          "execution_count": 33
        }
      ],
      "source": [
        "nltk.__version__"
      ]
    },
    {
      "cell_type": "code",
      "execution_count": 34,
      "id": "4ec2b3e9-d432-4053-bdc6-ded4f399d405",
      "metadata": {
        "id": "4ec2b3e9-d432-4053-bdc6-ded4f399d405"
      },
      "outputs": [],
      "source": [
        "def pre_proces(text):\n",
        "    # converting the text into lowercase\n",
        "    stemmer = PorterStemmer()\n",
        "    lemmatizer = WordNetLemmatizer()\n",
        "\n",
        "    # defining new variable to store pre processed text\n",
        "    final_val=[]\n",
        "    text=text.lower()\n",
        "    # remove special charechters.\n",
        "    text = re.sub(r'\\W', ' ', text)\n",
        "    # creating the tokens from the text\n",
        "    tokens = word_tokenize(text)\n",
        "    for token in tokens:\n",
        "        # removing the stop words\n",
        "        if token not in stopwords.words('english'):\n",
        "            # perfoming the stemming\n",
        "            token=stemmer.stem(token)\n",
        "            # perfoming the lemmatization\n",
        "            token=lemmatizer.lemmatize(token)\n",
        "            # appending the final to the result\n",
        "            final_val.append(token)\n",
        "    return final_val"
      ]
    },
    {
      "cell_type": "code",
      "execution_count": null,
      "id": "0236486d-9c63-4944-83ac-036059a7613a",
      "metadata": {
        "id": "0236486d-9c63-4944-83ac-036059a7613a",
        "outputId": "8b16d307-e1fe-4c6b-e448-9bd299de9799"
      },
      "outputs": [
        {
          "data": {
            "text/plain": [
              "['dog', 'bark', 'man']"
            ]
          },
          "execution_count": 32,
          "metadata": {},
          "output_type": "execute_result"
        }
      ],
      "source": [
        "pre_proces(\"A dog is barking at a man\")"
      ]
    },
    {
      "cell_type": "code",
      "execution_count": 35,
      "id": "6c910ed7-202a-48f9-81bc-0b56dd203a6a",
      "metadata": {
        "id": "6c910ed7-202a-48f9-81bc-0b56dd203a6a"
      },
      "outputs": [],
      "source": [
        "df['Summary'] = df['Summary'].apply(pre_proces)\n",
        "df['Text'] = df['Text'].apply(pre_proces)"
      ]
    },
    {
      "cell_type": "code",
      "execution_count": null,
      "id": "95395a09-f74b-4b27-bba7-4d7f330b8197",
      "metadata": {
        "id": "95395a09-f74b-4b27-bba7-4d7f330b8197",
        "outputId": "7e05e7a0-15c6-4182-f094-957be1331e83"
      },
      "outputs": [
        {
          "data": {
            "text/html": [
              "<div>\n",
              "<style scoped>\n",
              "    .dataframe tbody tr th:only-of-type {\n",
              "        vertical-align: middle;\n",
              "    }\n",
              "\n",
              "    .dataframe tbody tr th {\n",
              "        vertical-align: top;\n",
              "    }\n",
              "\n",
              "    .dataframe thead th {\n",
              "        text-align: right;\n",
              "    }\n",
              "</style>\n",
              "<table border=\"1\" class=\"dataframe\">\n",
              "  <thead>\n",
              "    <tr style=\"text-align: right;\">\n",
              "      <th></th>\n",
              "      <th>Summary</th>\n",
              "      <th>Text</th>\n",
              "      <th>Score</th>\n",
              "    </tr>\n",
              "  </thead>\n",
              "  <tbody>\n",
              "    <tr>\n",
              "      <th>29960</th>\n",
              "      <td>[folger, price]</td>\n",
              "      <td>[price, good, stretch, imagin, coffe, great, b...</td>\n",
              "      <td>1</td>\n",
              "    </tr>\n",
              "    <tr>\n",
              "      <th>925</th>\n",
              "      <td>[toss, 9, 12, jar]</td>\n",
              "      <td>[three, jar, came, form, edibl, babi, rest, fi...</td>\n",
              "      <td>1</td>\n",
              "    </tr>\n",
              "    <tr>\n",
              "      <th>40261</th>\n",
              "      <td>[sand, sugar]</td>\n",
              "      <td>[way, overpr, receiv, small, amount, 4oz, orde...</td>\n",
              "      <td>1</td>\n",
              "    </tr>\n",
              "    <tr>\n",
              "      <th>46870</th>\n",
              "      <td>[dissapoint, product]</td>\n",
              "      <td>[love, coconut, oil, cook, skin, care, mix, fo...</td>\n",
              "      <td>1</td>\n",
              "    </tr>\n",
              "    <tr>\n",
              "      <th>42338</th>\n",
              "      <td>[terribl, low, qualiti, press, bit, tini, bag]</td>\n",
              "      <td>[turkey, jerki, realli, bad, qualiti, jerki, c...</td>\n",
              "      <td>1</td>\n",
              "    </tr>\n",
              "  </tbody>\n",
              "</table>\n",
              "</div>"
            ],
            "text/plain": [
              "                                              Summary  \\\n",
              "29960                                 [folger, price]   \n",
              "925                                [toss, 9, 12, jar]   \n",
              "40261                                   [sand, sugar]   \n",
              "46870                           [dissapoint, product]   \n",
              "42338  [terribl, low, qualiti, press, bit, tini, bag]   \n",
              "\n",
              "                                                    Text  Score  \n",
              "29960  [price, good, stretch, imagin, coffe, great, b...      1  \n",
              "925    [three, jar, came, form, edibl, babi, rest, fi...      1  \n",
              "40261  [way, overpr, receiv, small, amount, 4oz, orde...      1  \n",
              "46870  [love, coconut, oil, cook, skin, care, mix, fo...      1  \n",
              "42338  [turkey, jerki, realli, bad, qualiti, jerki, c...      1  "
            ]
          },
          "execution_count": 34,
          "metadata": {},
          "output_type": "execute_result"
        }
      ],
      "source": [
        "df.head()"
      ]
    },
    {
      "cell_type": "markdown",
      "id": "6f214765-eeda-4328-8f24-dd31838e0db2",
      "metadata": {
        "id": "6f214765-eeda-4328-8f24-dd31838e0db2"
      },
      "source": [
        "## 4. Vectorizing the data embedding"
      ]
    },
    {
      "cell_type": "code",
      "execution_count": 36,
      "id": "3356da09-ceb9-4c7a-ae9d-386711c87fa8",
      "metadata": {
        "id": "3356da09-ceb9-4c7a-ae9d-386711c87fa8"
      },
      "outputs": [],
      "source": [
        "## TF-IDF VECTORIZING\n",
        "from sklearn.feature_extraction.text import TfidfVectorizer"
      ]
    },
    {
      "cell_type": "code",
      "execution_count": 37,
      "id": "7416aa4e-c31f-4872-8a46-06dd0b2503f1",
      "metadata": {
        "id": "7416aa4e-c31f-4872-8a46-06dd0b2503f1"
      },
      "outputs": [],
      "source": [
        "vectorizer = TfidfVectorizer()"
      ]
    },
    {
      "cell_type": "code",
      "execution_count": null,
      "id": "9cf88bbe-c450-443d-828a-e7f4c237ea96",
      "metadata": {
        "id": "9cf88bbe-c450-443d-828a-e7f4c237ea96"
      },
      "outputs": [],
      "source": []
    },
    {
      "cell_type": "code",
      "execution_count": 38,
      "id": "1a7a4d1a-3f06-45ee-81db-565fe500fde0",
      "metadata": {
        "id": "1a7a4d1a-3f06-45ee-81db-565fe500fde0",
        "outputId": "76003a62-f065-4abb-901b-a9f0e4497115",
        "colab": {
          "base_uri": "https://localhost:8080/"
        }
      },
      "outputs": [
        {
          "output_type": "execute_result",
          "data": {
            "text/plain": [
              "0       worst popcorn ive ever bought chewi fluffi gav...\n",
              "1       tea aw stuff ever put mouth chemic tast tri ad...\n",
              "2       wast money kettl brand potato chip bought case...\n",
              "3       cup artif sweeten sucralos realiz tri one end ...\n",
              "4       receiv order grove squar hot cocoa mix today s...\n",
              "                              ...                        \n",
              "4430    girl love two year local retail outlet trader ...\n",
              "4431    favorit flavor coffe usual fan coconut coffe d...\n",
              "4432    great buy price get kind deal anywher local bu...\n",
              "4433    shortbread cooki delici bought london summer h...\n",
              "4434    feed blue buffalo food golden retriev almost 3...\n",
              "Name: Text, Length: 4435, dtype: object"
            ]
          },
          "metadata": {},
          "execution_count": 38
        }
      ],
      "source": [
        "df['Text'].apply(' '.join)"
      ]
    },
    {
      "cell_type": "code",
      "execution_count": 39,
      "id": "64a7487f-df6f-4d61-93c0-f83502453260",
      "metadata": {
        "id": "64a7487f-df6f-4d61-93c0-f83502453260"
      },
      "outputs": [],
      "source": [
        "X = vectorizer.fit_transform(df['Text'].apply(' '.join))"
      ]
    },
    {
      "cell_type": "code",
      "execution_count": 40,
      "id": "d65f9be1-e748-42b5-aaca-7b50abef17b1",
      "metadata": {
        "id": "d65f9be1-e748-42b5-aaca-7b50abef17b1",
        "outputId": "0bd613ac-adf8-4276-b7b2-0f4b1ed63495",
        "colab": {
          "base_uri": "https://localhost:8080/"
        }
      },
      "outputs": [
        {
          "output_type": "execute_result",
          "data": {
            "text/plain": [
              "(4435, 9334)"
            ]
          },
          "metadata": {},
          "execution_count": 40
        }
      ],
      "source": [
        "X.shape"
      ]
    },
    {
      "cell_type": "code",
      "execution_count": 41,
      "id": "63c361da-9543-4661-b632-f5a19f93759b",
      "metadata": {
        "id": "63c361da-9543-4661-b632-f5a19f93759b",
        "outputId": "39a0964d-f952-4cc4-b7c4-d3b53ef697ed",
        "colab": {
          "base_uri": "https://localhost:8080/"
        }
      },
      "outputs": [
        {
          "output_type": "execute_result",
          "data": {
            "text/plain": [
              "<1x9334 sparse matrix of type '<class 'numpy.float64'>'\n",
              "\twith 17 stored elements in Compressed Sparse Row format>"
            ]
          },
          "metadata": {},
          "execution_count": 41
        }
      ],
      "source": [
        "X[0]"
      ]
    },
    {
      "cell_type": "code",
      "execution_count": 42,
      "id": "bfd8bf2d-dee8-4027-97b5-cd5cdf48ad64",
      "metadata": {
        "id": "bfd8bf2d-dee8-4027-97b5-cd5cdf48ad64"
      },
      "outputs": [],
      "source": [
        "from sklearn.model_selection import train_test_split\n",
        "from sklearn.metrics import accuracy_score, precision_score, recall_score, f1_score"
      ]
    },
    {
      "cell_type": "markdown",
      "id": "2525b948-30e5-4ab8-9e6e-8cf5dddfd1de",
      "metadata": {
        "id": "2525b948-30e5-4ab8-9e6e-8cf5dddfd1de"
      },
      "source": [
        "## 5. Train test split"
      ]
    },
    {
      "cell_type": "code",
      "execution_count": 43,
      "id": "e5e32834-5eaa-4427-89c4-c28b85f9e2bf",
      "metadata": {
        "id": "e5e32834-5eaa-4427-89c4-c28b85f9e2bf"
      },
      "outputs": [],
      "source": [
        "X_train, X_test, y_train, y_test = train_test_split(X, df['Score'], test_size=0.2, random_state=42)"
      ]
    },
    {
      "cell_type": "code",
      "execution_count": 44,
      "id": "1590a199-1f34-4776-ae07-6c6650f7ed77",
      "metadata": {
        "id": "1590a199-1f34-4776-ae07-6c6650f7ed77",
        "outputId": "1a6b80f4-fc6b-427e-fcfb-53f6bc3ee123",
        "colab": {
          "base_uri": "https://localhost:8080/"
        }
      },
      "outputs": [
        {
          "output_type": "execute_result",
          "data": {
            "text/plain": [
              "<3548x9334 sparse matrix of type '<class 'numpy.float64'>'\n",
              "\twith 119974 stored elements in Compressed Sparse Row format>"
            ]
          },
          "metadata": {},
          "execution_count": 44
        }
      ],
      "source": [
        "X_train"
      ]
    },
    {
      "cell_type": "code",
      "execution_count": 45,
      "id": "75b5b153-6907-432a-8db0-22956b7b2d04",
      "metadata": {
        "id": "75b5b153-6907-432a-8db0-22956b7b2d04",
        "outputId": "ac6105cd-1899-4fbe-ae39-cdca265a82c0",
        "colab": {
          "base_uri": "https://localhost:8080/"
        }
      },
      "outputs": [
        {
          "output_type": "execute_result",
          "data": {
            "text/plain": [
              "(3548,)"
            ]
          },
          "metadata": {},
          "execution_count": 45
        }
      ],
      "source": [
        "y_train.shape"
      ]
    },
    {
      "cell_type": "code",
      "execution_count": 46,
      "id": "f28c18b9-b266-499a-b258-51ea7a390f46",
      "metadata": {
        "id": "f28c18b9-b266-499a-b258-51ea7a390f46",
        "outputId": "25aa428f-075f-415a-fe25-32229624cde9",
        "colab": {
          "base_uri": "https://localhost:8080/"
        }
      },
      "outputs": [
        {
          "output_type": "execute_result",
          "data": {
            "text/plain": [
              "(887, 9334)"
            ]
          },
          "metadata": {},
          "execution_count": 46
        }
      ],
      "source": [
        "X_test.shape"
      ]
    },
    {
      "cell_type": "markdown",
      "id": "c3486a68-03b8-4ae4-8ac8-d6a6b05ff15d",
      "metadata": {
        "id": "c3486a68-03b8-4ae4-8ac8-d6a6b05ff15d"
      },
      "source": [
        "## 6. Selecting the model"
      ]
    },
    {
      "cell_type": "markdown",
      "id": "59a65d12-702b-45c1-98a4-b03673b973e4",
      "metadata": {
        "id": "59a65d12-702b-45c1-98a4-b03673b973e4"
      },
      "source": [
        "## knn"
      ]
    },
    {
      "cell_type": "code",
      "execution_count": 51,
      "id": "0a2d8e8a-e4ee-4208-844e-cef856d32897",
      "metadata": {
        "id": "0a2d8e8a-e4ee-4208-844e-cef856d32897"
      },
      "outputs": [],
      "source": [
        "from sklearn.neighbors import KNeighborsClassifier\n",
        "neigh = KNeighborsClassifier(n_neighbors=50)"
      ]
    },
    {
      "cell_type": "code",
      "execution_count": 52,
      "id": "e0dc41cf-b496-4ae8-b809-9be9b9e41097",
      "metadata": {
        "id": "e0dc41cf-b496-4ae8-b809-9be9b9e41097",
        "outputId": "3cadade8-77af-424d-dad6-ffd7ae4d7cd3",
        "colab": {
          "base_uri": "https://localhost:8080/",
          "height": 75
        }
      },
      "outputs": [
        {
          "output_type": "execute_result",
          "data": {
            "text/plain": [
              "KNeighborsClassifier(n_neighbors=50)"
            ],
            "text/html": [
              "<style>#sk-container-id-2 {color: black;background-color: white;}#sk-container-id-2 pre{padding: 0;}#sk-container-id-2 div.sk-toggleable {background-color: white;}#sk-container-id-2 label.sk-toggleable__label {cursor: pointer;display: block;width: 100%;margin-bottom: 0;padding: 0.3em;box-sizing: border-box;text-align: center;}#sk-container-id-2 label.sk-toggleable__label-arrow:before {content: \"▸\";float: left;margin-right: 0.25em;color: #696969;}#sk-container-id-2 label.sk-toggleable__label-arrow:hover:before {color: black;}#sk-container-id-2 div.sk-estimator:hover label.sk-toggleable__label-arrow:before {color: black;}#sk-container-id-2 div.sk-toggleable__content {max-height: 0;max-width: 0;overflow: hidden;text-align: left;background-color: #f0f8ff;}#sk-container-id-2 div.sk-toggleable__content pre {margin: 0.2em;color: black;border-radius: 0.25em;background-color: #f0f8ff;}#sk-container-id-2 input.sk-toggleable__control:checked~div.sk-toggleable__content {max-height: 200px;max-width: 100%;overflow: auto;}#sk-container-id-2 input.sk-toggleable__control:checked~label.sk-toggleable__label-arrow:before {content: \"▾\";}#sk-container-id-2 div.sk-estimator input.sk-toggleable__control:checked~label.sk-toggleable__label {background-color: #d4ebff;}#sk-container-id-2 div.sk-label input.sk-toggleable__control:checked~label.sk-toggleable__label {background-color: #d4ebff;}#sk-container-id-2 input.sk-hidden--visually {border: 0;clip: rect(1px 1px 1px 1px);clip: rect(1px, 1px, 1px, 1px);height: 1px;margin: -1px;overflow: hidden;padding: 0;position: absolute;width: 1px;}#sk-container-id-2 div.sk-estimator {font-family: monospace;background-color: #f0f8ff;border: 1px dotted black;border-radius: 0.25em;box-sizing: border-box;margin-bottom: 0.5em;}#sk-container-id-2 div.sk-estimator:hover {background-color: #d4ebff;}#sk-container-id-2 div.sk-parallel-item::after {content: \"\";width: 100%;border-bottom: 1px solid gray;flex-grow: 1;}#sk-container-id-2 div.sk-label:hover label.sk-toggleable__label {background-color: #d4ebff;}#sk-container-id-2 div.sk-serial::before {content: \"\";position: absolute;border-left: 1px solid gray;box-sizing: border-box;top: 0;bottom: 0;left: 50%;z-index: 0;}#sk-container-id-2 div.sk-serial {display: flex;flex-direction: column;align-items: center;background-color: white;padding-right: 0.2em;padding-left: 0.2em;position: relative;}#sk-container-id-2 div.sk-item {position: relative;z-index: 1;}#sk-container-id-2 div.sk-parallel {display: flex;align-items: stretch;justify-content: center;background-color: white;position: relative;}#sk-container-id-2 div.sk-item::before, #sk-container-id-2 div.sk-parallel-item::before {content: \"\";position: absolute;border-left: 1px solid gray;box-sizing: border-box;top: 0;bottom: 0;left: 50%;z-index: -1;}#sk-container-id-2 div.sk-parallel-item {display: flex;flex-direction: column;z-index: 1;position: relative;background-color: white;}#sk-container-id-2 div.sk-parallel-item:first-child::after {align-self: flex-end;width: 50%;}#sk-container-id-2 div.sk-parallel-item:last-child::after {align-self: flex-start;width: 50%;}#sk-container-id-2 div.sk-parallel-item:only-child::after {width: 0;}#sk-container-id-2 div.sk-dashed-wrapped {border: 1px dashed gray;margin: 0 0.4em 0.5em 0.4em;box-sizing: border-box;padding-bottom: 0.4em;background-color: white;}#sk-container-id-2 div.sk-label label {font-family: monospace;font-weight: bold;display: inline-block;line-height: 1.2em;}#sk-container-id-2 div.sk-label-container {text-align: center;}#sk-container-id-2 div.sk-container {/* jupyter's `normalize.less` sets `[hidden] { display: none; }` but bootstrap.min.css set `[hidden] { display: none !important; }` so we also need the `!important` here to be able to override the default hidden behavior on the sphinx rendered scikit-learn.org. See: https://github.com/scikit-learn/scikit-learn/issues/21755 */display: inline-block !important;position: relative;}#sk-container-id-2 div.sk-text-repr-fallback {display: none;}</style><div id=\"sk-container-id-2\" class=\"sk-top-container\"><div class=\"sk-text-repr-fallback\"><pre>KNeighborsClassifier(n_neighbors=50)</pre><b>In a Jupyter environment, please rerun this cell to show the HTML representation or trust the notebook. <br />On GitHub, the HTML representation is unable to render, please try loading this page with nbviewer.org.</b></div><div class=\"sk-container\" hidden><div class=\"sk-item\"><div class=\"sk-estimator sk-toggleable\"><input class=\"sk-toggleable__control sk-hidden--visually\" id=\"sk-estimator-id-2\" type=\"checkbox\" checked><label for=\"sk-estimator-id-2\" class=\"sk-toggleable__label sk-toggleable__label-arrow\">KNeighborsClassifier</label><div class=\"sk-toggleable__content\"><pre>KNeighborsClassifier(n_neighbors=50)</pre></div></div></div></div></div>"
            ]
          },
          "metadata": {},
          "execution_count": 52
        }
      ],
      "source": [
        "neigh.fit(X_train,y_train)"
      ]
    },
    {
      "cell_type": "code",
      "execution_count": 53,
      "id": "5f02ee7f-6e2e-4c1a-a1b1-daacd061ab8f",
      "metadata": {
        "id": "5f02ee7f-6e2e-4c1a-a1b1-daacd061ab8f"
      },
      "outputs": [],
      "source": [
        "y_pred=neigh.predict(X_test)"
      ]
    },
    {
      "cell_type": "code",
      "execution_count": 54,
      "id": "c723e9b4-593d-478c-89c4-681c7c8eec3c",
      "metadata": {
        "id": "c723e9b4-593d-478c-89c4-681c7c8eec3c",
        "outputId": "c218a11b-6b5f-45ba-caad-38124e9b2799",
        "colab": {
          "base_uri": "https://localhost:8080/"
        }
      },
      "outputs": [
        {
          "output_type": "stream",
          "name": "stdout",
          "text": [
            "Accuracy:  0.3528748590755355\n",
            "Precision:  0.36569904833311173\n",
            "Recall:  0.3528748590755355\n",
            "F1 Score:  0.35696388337882284\n"
          ]
        }
      ],
      "source": [
        "\n",
        "# Print individual performance metrics\n",
        "print(\"Accuracy: \", accuracy_score(y_test, y_pred))\n",
        "print(\"Precision: \", precision_score(y_test, y_pred, average='weighted'))\n",
        "print(\"Recall: \", recall_score(y_test, y_pred, average='weighted'))\n",
        "print(\"F1 Score: \", f1_score(y_test, y_pred, average='weighted'))"
      ]
    },
    {
      "cell_type": "code",
      "execution_count": null,
      "id": "912cfb91-6f33-4022-ace0-9b5dab84d15e",
      "metadata": {
        "id": "912cfb91-6f33-4022-ace0-9b5dab84d15e"
      },
      "outputs": [],
      "source": []
    },
    {
      "cell_type": "markdown",
      "id": "caf23e68-78b5-487c-bd3b-5d02d0bc5cdd",
      "metadata": {
        "id": "caf23e68-78b5-487c-bd3b-5d02d0bc5cdd"
      },
      "source": [
        "## Logistic Regression"
      ]
    },
    {
      "cell_type": "code",
      "execution_count": 55,
      "id": "9abf3270-924f-4244-8cee-5a06dba8023f",
      "metadata": {
        "id": "9abf3270-924f-4244-8cee-5a06dba8023f"
      },
      "outputs": [],
      "source": [
        "from sklearn.linear_model import LogisticRegression\n",
        "clf = LogisticRegression()"
      ]
    },
    {
      "cell_type": "code",
      "execution_count": null,
      "id": "f36812e7-a160-4618-9afd-c2795d93964f",
      "metadata": {
        "id": "f36812e7-a160-4618-9afd-c2795d93964f"
      },
      "outputs": [],
      "source": []
    },
    {
      "cell_type": "code",
      "execution_count": null,
      "id": "6cbf1b5d-3219-4233-9e2f-8b290e4b8341",
      "metadata": {
        "id": "6cbf1b5d-3219-4233-9e2f-8b290e4b8341"
      },
      "outputs": [],
      "source": []
    },
    {
      "cell_type": "markdown",
      "id": "d3249ebb-7e2c-45db-9c18-ef38af336ca8",
      "metadata": {
        "id": "d3249ebb-7e2c-45db-9c18-ef38af336ca8"
      },
      "source": [
        "## svm"
      ]
    },
    {
      "cell_type": "code",
      "execution_count": null,
      "id": "aa66e41f-c34c-4430-887c-ac4930fe49a1",
      "metadata": {
        "id": "aa66e41f-c34c-4430-887c-ac4930fe49a1"
      },
      "outputs": [],
      "source": [
        "from sklearn import svm\n",
        "clf = svm.SVC()"
      ]
    },
    {
      "cell_type": "code",
      "execution_count": null,
      "id": "25bd693b-c647-46e2-a552-d328cbb86ff2",
      "metadata": {
        "id": "25bd693b-c647-46e2-a552-d328cbb86ff2"
      },
      "outputs": [],
      "source": []
    },
    {
      "cell_type": "markdown",
      "id": "caafbe34-d5b7-4dd6-80ad-158086278913",
      "metadata": {
        "id": "caafbe34-d5b7-4dd6-80ad-158086278913"
      },
      "source": [
        "## Decision Tree"
      ]
    },
    {
      "cell_type": "code",
      "execution_count": null,
      "id": "50bc61b3-347c-4f8b-956a-f2ffed1747cb",
      "metadata": {
        "id": "50bc61b3-347c-4f8b-956a-f2ffed1747cb"
      },
      "outputs": [],
      "source": [
        "from sklearn.tree import DecisionTreeClassifier\n",
        "clf = DecisionTreeClassifier()"
      ]
    },
    {
      "cell_type": "code",
      "execution_count": null,
      "id": "d4323a99-293e-48e3-80b1-1bd771552379",
      "metadata": {
        "id": "d4323a99-293e-48e3-80b1-1bd771552379"
      },
      "outputs": [],
      "source": []
    },
    {
      "cell_type": "markdown",
      "id": "87133081-bf4e-45f3-bc8d-cb466edfc581",
      "metadata": {
        "id": "87133081-bf4e-45f3-bc8d-cb466edfc581"
      },
      "source": [
        "## Random forest"
      ]
    },
    {
      "cell_type": "code",
      "execution_count": null,
      "id": "9ab76f6f-fe33-48a4-a229-8911be759a64",
      "metadata": {
        "id": "9ab76f6f-fe33-48a4-a229-8911be759a64"
      },
      "outputs": [],
      "source": [
        "from sklearn.ensemble import RandomForestClassifier\n",
        "clf = RandomForestClassifier()"
      ]
    },
    {
      "cell_type": "code",
      "execution_count": null,
      "id": "6fabbea9-c8ed-4ff1-8126-711f62f7e561",
      "metadata": {
        "id": "6fabbea9-c8ed-4ff1-8126-711f62f7e561"
      },
      "outputs": [],
      "source": []
    },
    {
      "cell_type": "code",
      "execution_count": null,
      "id": "c973a908-59be-4659-80d4-1fd34b24823a",
      "metadata": {
        "id": "c973a908-59be-4659-80d4-1fd34b24823a"
      },
      "outputs": [],
      "source": []
    },
    {
      "cell_type": "code",
      "execution_count": null,
      "id": "a2a744fa-a3c7-4d6b-b42a-299abd2830ca",
      "metadata": {
        "id": "a2a744fa-a3c7-4d6b-b42a-299abd2830ca"
      },
      "outputs": [],
      "source": []
    },
    {
      "cell_type": "code",
      "execution_count": null,
      "id": "7a1cdbe8-da81-4e39-a97a-e9b3235d61f7",
      "metadata": {
        "id": "7a1cdbe8-da81-4e39-a97a-e9b3235d61f7"
      },
      "outputs": [],
      "source": []
    },
    {
      "cell_type": "code",
      "execution_count": null,
      "id": "185bdca3-5049-4ac3-9f0c-f7f2b2985b33",
      "metadata": {
        "id": "185bdca3-5049-4ac3-9f0c-f7f2b2985b33"
      },
      "outputs": [],
      "source": []
    },
    {
      "cell_type": "code",
      "execution_count": null,
      "id": "1a21d946-472c-43fb-9267-6da07699f80a",
      "metadata": {
        "id": "1a21d946-472c-43fb-9267-6da07699f80a"
      },
      "outputs": [],
      "source": []
    },
    {
      "cell_type": "code",
      "execution_count": null,
      "id": "5dcd9c47-2149-47c0-966c-7c2ef8799dfb",
      "metadata": {
        "id": "5dcd9c47-2149-47c0-966c-7c2ef8799dfb"
      },
      "outputs": [],
      "source": []
    }
  ],
  "metadata": {
    "kernelspec": {
      "display_name": "Python 3 (ipykernel)",
      "language": "python",
      "name": "python3"
    },
    "language_info": {
      "codemirror_mode": {
        "name": "ipython",
        "version": 3
      },
      "file_extension": ".py",
      "mimetype": "text/x-python",
      "name": "python",
      "nbconvert_exporter": "python",
      "pygments_lexer": "ipython3",
      "version": "3.11.7"
    },
    "colab": {
      "provenance": [],
      "include_colab_link": true
    }
  },
  "nbformat": 4,
  "nbformat_minor": 5
}